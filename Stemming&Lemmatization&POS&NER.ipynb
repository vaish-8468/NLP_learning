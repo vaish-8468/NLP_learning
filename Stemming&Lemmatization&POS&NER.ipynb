{
  "nbformat": 4,
  "nbformat_minor": 0,
  "metadata": {
    "colab": {
      "provenance": [],
      "mount_file_id": "1JJgcdOpopWhvcym8mqSvRN1cRxLgRqyT",
      "authorship_tag": "ABX9TyNzC9EWJsu2shFexpiYF/Vc",
      "include_colab_link": true
    },
    "kernelspec": {
      "name": "python3",
      "display_name": "Python 3"
    },
    "language_info": {
      "name": "python"
    },
    "widgets": {
      "application/vnd.jupyter.widget-state+json": {
        "90588041b2974fd3950544e432188ee9": {
          "model_module": "@jupyter-widgets/controls",
          "model_name": "HBoxModel",
          "model_module_version": "1.5.0",
          "state": {
            "_dom_classes": [],
            "_model_module": "@jupyter-widgets/controls",
            "_model_module_version": "1.5.0",
            "_model_name": "HBoxModel",
            "_view_count": null,
            "_view_module": "@jupyter-widgets/controls",
            "_view_module_version": "1.5.0",
            "_view_name": "HBoxView",
            "box_style": "",
            "children": [
              "IPY_MODEL_81ed1cfcbb0240e49ff5cc6502d0b419",
              "IPY_MODEL_59c13058915f452e88f47bb3e5d44811",
              "IPY_MODEL_f25afea3e22a4330a26051fbf5d0c2c3"
            ],
            "layout": "IPY_MODEL_a71b91cfadd34966a1e12ba9996e31ec"
          }
        },
        "81ed1cfcbb0240e49ff5cc6502d0b419": {
          "model_module": "@jupyter-widgets/controls",
          "model_name": "HTMLModel",
          "model_module_version": "1.5.0",
          "state": {
            "_dom_classes": [],
            "_model_module": "@jupyter-widgets/controls",
            "_model_module_version": "1.5.0",
            "_model_name": "HTMLModel",
            "_view_count": null,
            "_view_module": "@jupyter-widgets/controls",
            "_view_module_version": "1.5.0",
            "_view_name": "HTMLView",
            "description": "",
            "description_tooltip": null,
            "layout": "IPY_MODEL_9991a42f53964f818292e9ec13d16bb2",
            "placeholder": "​",
            "style": "IPY_MODEL_2af6cbe8a77b438a989c2e9a78029056",
            "value": "Downloading: 100%"
          }
        },
        "59c13058915f452e88f47bb3e5d44811": {
          "model_module": "@jupyter-widgets/controls",
          "model_name": "FloatProgressModel",
          "model_module_version": "1.5.0",
          "state": {
            "_dom_classes": [],
            "_model_module": "@jupyter-widgets/controls",
            "_model_module_version": "1.5.0",
            "_model_name": "FloatProgressModel",
            "_view_count": null,
            "_view_module": "@jupyter-widgets/controls",
            "_view_module_version": "1.5.0",
            "_view_name": "ProgressView",
            "bar_style": "success",
            "description": "",
            "description_tooltip": null,
            "layout": "IPY_MODEL_26f71e1c7f1249bda3387d2e08054723",
            "max": 59,
            "min": 0,
            "orientation": "horizontal",
            "style": "IPY_MODEL_8596369d6d7b49588e898407a993f42e",
            "value": 59
          }
        },
        "f25afea3e22a4330a26051fbf5d0c2c3": {
          "model_module": "@jupyter-widgets/controls",
          "model_name": "HTMLModel",
          "model_module_version": "1.5.0",
          "state": {
            "_dom_classes": [],
            "_model_module": "@jupyter-widgets/controls",
            "_model_module_version": "1.5.0",
            "_model_name": "HTMLModel",
            "_view_count": null,
            "_view_module": "@jupyter-widgets/controls",
            "_view_module_version": "1.5.0",
            "_view_name": "HTMLView",
            "description": "",
            "description_tooltip": null,
            "layout": "IPY_MODEL_a56815d8c8fb45d89ef43921d9821788",
            "placeholder": "​",
            "style": "IPY_MODEL_68f613a43cd54d918c0169f0351e67c6",
            "value": " 59.0/59.0 [00:00&lt;00:00, 2.57kB/s]"
          }
        },
        "a71b91cfadd34966a1e12ba9996e31ec": {
          "model_module": "@jupyter-widgets/base",
          "model_name": "LayoutModel",
          "model_module_version": "1.2.0",
          "state": {
            "_model_module": "@jupyter-widgets/base",
            "_model_module_version": "1.2.0",
            "_model_name": "LayoutModel",
            "_view_count": null,
            "_view_module": "@jupyter-widgets/base",
            "_view_module_version": "1.2.0",
            "_view_name": "LayoutView",
            "align_content": null,
            "align_items": null,
            "align_self": null,
            "border": null,
            "bottom": null,
            "display": null,
            "flex": null,
            "flex_flow": null,
            "grid_area": null,
            "grid_auto_columns": null,
            "grid_auto_flow": null,
            "grid_auto_rows": null,
            "grid_column": null,
            "grid_gap": null,
            "grid_row": null,
            "grid_template_areas": null,
            "grid_template_columns": null,
            "grid_template_rows": null,
            "height": null,
            "justify_content": null,
            "justify_items": null,
            "left": null,
            "margin": null,
            "max_height": null,
            "max_width": null,
            "min_height": null,
            "min_width": null,
            "object_fit": null,
            "object_position": null,
            "order": null,
            "overflow": null,
            "overflow_x": null,
            "overflow_y": null,
            "padding": null,
            "right": null,
            "top": null,
            "visibility": null,
            "width": null
          }
        },
        "9991a42f53964f818292e9ec13d16bb2": {
          "model_module": "@jupyter-widgets/base",
          "model_name": "LayoutModel",
          "model_module_version": "1.2.0",
          "state": {
            "_model_module": "@jupyter-widgets/base",
            "_model_module_version": "1.2.0",
            "_model_name": "LayoutModel",
            "_view_count": null,
            "_view_module": "@jupyter-widgets/base",
            "_view_module_version": "1.2.0",
            "_view_name": "LayoutView",
            "align_content": null,
            "align_items": null,
            "align_self": null,
            "border": null,
            "bottom": null,
            "display": null,
            "flex": null,
            "flex_flow": null,
            "grid_area": null,
            "grid_auto_columns": null,
            "grid_auto_flow": null,
            "grid_auto_rows": null,
            "grid_column": null,
            "grid_gap": null,
            "grid_row": null,
            "grid_template_areas": null,
            "grid_template_columns": null,
            "grid_template_rows": null,
            "height": null,
            "justify_content": null,
            "justify_items": null,
            "left": null,
            "margin": null,
            "max_height": null,
            "max_width": null,
            "min_height": null,
            "min_width": null,
            "object_fit": null,
            "object_position": null,
            "order": null,
            "overflow": null,
            "overflow_x": null,
            "overflow_y": null,
            "padding": null,
            "right": null,
            "top": null,
            "visibility": null,
            "width": null
          }
        },
        "2af6cbe8a77b438a989c2e9a78029056": {
          "model_module": "@jupyter-widgets/controls",
          "model_name": "DescriptionStyleModel",
          "model_module_version": "1.5.0",
          "state": {
            "_model_module": "@jupyter-widgets/controls",
            "_model_module_version": "1.5.0",
            "_model_name": "DescriptionStyleModel",
            "_view_count": null,
            "_view_module": "@jupyter-widgets/base",
            "_view_module_version": "1.2.0",
            "_view_name": "StyleView",
            "description_width": ""
          }
        },
        "26f71e1c7f1249bda3387d2e08054723": {
          "model_module": "@jupyter-widgets/base",
          "model_name": "LayoutModel",
          "model_module_version": "1.2.0",
          "state": {
            "_model_module": "@jupyter-widgets/base",
            "_model_module_version": "1.2.0",
            "_model_name": "LayoutModel",
            "_view_count": null,
            "_view_module": "@jupyter-widgets/base",
            "_view_module_version": "1.2.0",
            "_view_name": "LayoutView",
            "align_content": null,
            "align_items": null,
            "align_self": null,
            "border": null,
            "bottom": null,
            "display": null,
            "flex": null,
            "flex_flow": null,
            "grid_area": null,
            "grid_auto_columns": null,
            "grid_auto_flow": null,
            "grid_auto_rows": null,
            "grid_column": null,
            "grid_gap": null,
            "grid_row": null,
            "grid_template_areas": null,
            "grid_template_columns": null,
            "grid_template_rows": null,
            "height": null,
            "justify_content": null,
            "justify_items": null,
            "left": null,
            "margin": null,
            "max_height": null,
            "max_width": null,
            "min_height": null,
            "min_width": null,
            "object_fit": null,
            "object_position": null,
            "order": null,
            "overflow": null,
            "overflow_x": null,
            "overflow_y": null,
            "padding": null,
            "right": null,
            "top": null,
            "visibility": null,
            "width": null
          }
        },
        "8596369d6d7b49588e898407a993f42e": {
          "model_module": "@jupyter-widgets/controls",
          "model_name": "ProgressStyleModel",
          "model_module_version": "1.5.0",
          "state": {
            "_model_module": "@jupyter-widgets/controls",
            "_model_module_version": "1.5.0",
            "_model_name": "ProgressStyleModel",
            "_view_count": null,
            "_view_module": "@jupyter-widgets/base",
            "_view_module_version": "1.2.0",
            "_view_name": "StyleView",
            "bar_color": null,
            "description_width": ""
          }
        },
        "a56815d8c8fb45d89ef43921d9821788": {
          "model_module": "@jupyter-widgets/base",
          "model_name": "LayoutModel",
          "model_module_version": "1.2.0",
          "state": {
            "_model_module": "@jupyter-widgets/base",
            "_model_module_version": "1.2.0",
            "_model_name": "LayoutModel",
            "_view_count": null,
            "_view_module": "@jupyter-widgets/base",
            "_view_module_version": "1.2.0",
            "_view_name": "LayoutView",
            "align_content": null,
            "align_items": null,
            "align_self": null,
            "border": null,
            "bottom": null,
            "display": null,
            "flex": null,
            "flex_flow": null,
            "grid_area": null,
            "grid_auto_columns": null,
            "grid_auto_flow": null,
            "grid_auto_rows": null,
            "grid_column": null,
            "grid_gap": null,
            "grid_row": null,
            "grid_template_areas": null,
            "grid_template_columns": null,
            "grid_template_rows": null,
            "height": null,
            "justify_content": null,
            "justify_items": null,
            "left": null,
            "margin": null,
            "max_height": null,
            "max_width": null,
            "min_height": null,
            "min_width": null,
            "object_fit": null,
            "object_position": null,
            "order": null,
            "overflow": null,
            "overflow_x": null,
            "overflow_y": null,
            "padding": null,
            "right": null,
            "top": null,
            "visibility": null,
            "width": null
          }
        },
        "68f613a43cd54d918c0169f0351e67c6": {
          "model_module": "@jupyter-widgets/controls",
          "model_name": "DescriptionStyleModel",
          "model_module_version": "1.5.0",
          "state": {
            "_model_module": "@jupyter-widgets/controls",
            "_model_module_version": "1.5.0",
            "_model_name": "DescriptionStyleModel",
            "_view_count": null,
            "_view_module": "@jupyter-widgets/base",
            "_view_module_version": "1.2.0",
            "_view_name": "StyleView",
            "description_width": ""
          }
        },
        "b8bb0a99a77f42fc86e523eaf1bff96f": {
          "model_module": "@jupyter-widgets/controls",
          "model_name": "HBoxModel",
          "model_module_version": "1.5.0",
          "state": {
            "_dom_classes": [],
            "_model_module": "@jupyter-widgets/controls",
            "_model_module_version": "1.5.0",
            "_model_name": "HBoxModel",
            "_view_count": null,
            "_view_module": "@jupyter-widgets/controls",
            "_view_module_version": "1.5.0",
            "_view_name": "HBoxView",
            "box_style": "",
            "children": [
              "IPY_MODEL_91bc245885cc44d4991345d1642faed7",
              "IPY_MODEL_4da945a351ae430585d69a2b7523fde6",
              "IPY_MODEL_95f80fdbf30a4cd5b9287bf297756536"
            ],
            "layout": "IPY_MODEL_7835a27d59a44cf98cdf48bffa374098"
          }
        },
        "91bc245885cc44d4991345d1642faed7": {
          "model_module": "@jupyter-widgets/controls",
          "model_name": "HTMLModel",
          "model_module_version": "1.5.0",
          "state": {
            "_dom_classes": [],
            "_model_module": "@jupyter-widgets/controls",
            "_model_module_version": "1.5.0",
            "_model_name": "HTMLModel",
            "_view_count": null,
            "_view_module": "@jupyter-widgets/controls",
            "_view_module_version": "1.5.0",
            "_view_name": "HTMLView",
            "description": "",
            "description_tooltip": null,
            "layout": "IPY_MODEL_ac61b0d0b9e9497db5dcb484bd80c19d",
            "placeholder": "​",
            "style": "IPY_MODEL_330a041ff0984f9f9613a3d26aaf512f",
            "value": "Downloading: 100%"
          }
        },
        "4da945a351ae430585d69a2b7523fde6": {
          "model_module": "@jupyter-widgets/controls",
          "model_name": "FloatProgressModel",
          "model_module_version": "1.5.0",
          "state": {
            "_dom_classes": [],
            "_model_module": "@jupyter-widgets/controls",
            "_model_module_version": "1.5.0",
            "_model_name": "FloatProgressModel",
            "_view_count": null,
            "_view_module": "@jupyter-widgets/controls",
            "_view_module_version": "1.5.0",
            "_view_name": "ProgressView",
            "bar_style": "success",
            "description": "",
            "description_tooltip": null,
            "layout": "IPY_MODEL_faeb7d63f4284cb6af7bae81471411fc",
            "max": 829,
            "min": 0,
            "orientation": "horizontal",
            "style": "IPY_MODEL_4829eb167ee144b881ad3b385a93d219",
            "value": 829
          }
        },
        "95f80fdbf30a4cd5b9287bf297756536": {
          "model_module": "@jupyter-widgets/controls",
          "model_name": "HTMLModel",
          "model_module_version": "1.5.0",
          "state": {
            "_dom_classes": [],
            "_model_module": "@jupyter-widgets/controls",
            "_model_module_version": "1.5.0",
            "_model_name": "HTMLModel",
            "_view_count": null,
            "_view_module": "@jupyter-widgets/controls",
            "_view_module_version": "1.5.0",
            "_view_name": "HTMLView",
            "description": "",
            "description_tooltip": null,
            "layout": "IPY_MODEL_a82743e258464941b808425def332baf",
            "placeholder": "​",
            "style": "IPY_MODEL_1a54ce304f0248b1841d1ae8d850d170",
            "value": " 829/829 [00:00&lt;00:00, 27.0kB/s]"
          }
        },
        "7835a27d59a44cf98cdf48bffa374098": {
          "model_module": "@jupyter-widgets/base",
          "model_name": "LayoutModel",
          "model_module_version": "1.2.0",
          "state": {
            "_model_module": "@jupyter-widgets/base",
            "_model_module_version": "1.2.0",
            "_model_name": "LayoutModel",
            "_view_count": null,
            "_view_module": "@jupyter-widgets/base",
            "_view_module_version": "1.2.0",
            "_view_name": "LayoutView",
            "align_content": null,
            "align_items": null,
            "align_self": null,
            "border": null,
            "bottom": null,
            "display": null,
            "flex": null,
            "flex_flow": null,
            "grid_area": null,
            "grid_auto_columns": null,
            "grid_auto_flow": null,
            "grid_auto_rows": null,
            "grid_column": null,
            "grid_gap": null,
            "grid_row": null,
            "grid_template_areas": null,
            "grid_template_columns": null,
            "grid_template_rows": null,
            "height": null,
            "justify_content": null,
            "justify_items": null,
            "left": null,
            "margin": null,
            "max_height": null,
            "max_width": null,
            "min_height": null,
            "min_width": null,
            "object_fit": null,
            "object_position": null,
            "order": null,
            "overflow": null,
            "overflow_x": null,
            "overflow_y": null,
            "padding": null,
            "right": null,
            "top": null,
            "visibility": null,
            "width": null
          }
        },
        "ac61b0d0b9e9497db5dcb484bd80c19d": {
          "model_module": "@jupyter-widgets/base",
          "model_name": "LayoutModel",
          "model_module_version": "1.2.0",
          "state": {
            "_model_module": "@jupyter-widgets/base",
            "_model_module_version": "1.2.0",
            "_model_name": "LayoutModel",
            "_view_count": null,
            "_view_module": "@jupyter-widgets/base",
            "_view_module_version": "1.2.0",
            "_view_name": "LayoutView",
            "align_content": null,
            "align_items": null,
            "align_self": null,
            "border": null,
            "bottom": null,
            "display": null,
            "flex": null,
            "flex_flow": null,
            "grid_area": null,
            "grid_auto_columns": null,
            "grid_auto_flow": null,
            "grid_auto_rows": null,
            "grid_column": null,
            "grid_gap": null,
            "grid_row": null,
            "grid_template_areas": null,
            "grid_template_columns": null,
            "grid_template_rows": null,
            "height": null,
            "justify_content": null,
            "justify_items": null,
            "left": null,
            "margin": null,
            "max_height": null,
            "max_width": null,
            "min_height": null,
            "min_width": null,
            "object_fit": null,
            "object_position": null,
            "order": null,
            "overflow": null,
            "overflow_x": null,
            "overflow_y": null,
            "padding": null,
            "right": null,
            "top": null,
            "visibility": null,
            "width": null
          }
        },
        "330a041ff0984f9f9613a3d26aaf512f": {
          "model_module": "@jupyter-widgets/controls",
          "model_name": "DescriptionStyleModel",
          "model_module_version": "1.5.0",
          "state": {
            "_model_module": "@jupyter-widgets/controls",
            "_model_module_version": "1.5.0",
            "_model_name": "DescriptionStyleModel",
            "_view_count": null,
            "_view_module": "@jupyter-widgets/base",
            "_view_module_version": "1.2.0",
            "_view_name": "StyleView",
            "description_width": ""
          }
        },
        "faeb7d63f4284cb6af7bae81471411fc": {
          "model_module": "@jupyter-widgets/base",
          "model_name": "LayoutModel",
          "model_module_version": "1.2.0",
          "state": {
            "_model_module": "@jupyter-widgets/base",
            "_model_module_version": "1.2.0",
            "_model_name": "LayoutModel",
            "_view_count": null,
            "_view_module": "@jupyter-widgets/base",
            "_view_module_version": "1.2.0",
            "_view_name": "LayoutView",
            "align_content": null,
            "align_items": null,
            "align_self": null,
            "border": null,
            "bottom": null,
            "display": null,
            "flex": null,
            "flex_flow": null,
            "grid_area": null,
            "grid_auto_columns": null,
            "grid_auto_flow": null,
            "grid_auto_rows": null,
            "grid_column": null,
            "grid_gap": null,
            "grid_row": null,
            "grid_template_areas": null,
            "grid_template_columns": null,
            "grid_template_rows": null,
            "height": null,
            "justify_content": null,
            "justify_items": null,
            "left": null,
            "margin": null,
            "max_height": null,
            "max_width": null,
            "min_height": null,
            "min_width": null,
            "object_fit": null,
            "object_position": null,
            "order": null,
            "overflow": null,
            "overflow_x": null,
            "overflow_y": null,
            "padding": null,
            "right": null,
            "top": null,
            "visibility": null,
            "width": null
          }
        },
        "4829eb167ee144b881ad3b385a93d219": {
          "model_module": "@jupyter-widgets/controls",
          "model_name": "ProgressStyleModel",
          "model_module_version": "1.5.0",
          "state": {
            "_model_module": "@jupyter-widgets/controls",
            "_model_module_version": "1.5.0",
            "_model_name": "ProgressStyleModel",
            "_view_count": null,
            "_view_module": "@jupyter-widgets/base",
            "_view_module_version": "1.2.0",
            "_view_name": "StyleView",
            "bar_color": null,
            "description_width": ""
          }
        },
        "a82743e258464941b808425def332baf": {
          "model_module": "@jupyter-widgets/base",
          "model_name": "LayoutModel",
          "model_module_version": "1.2.0",
          "state": {
            "_model_module": "@jupyter-widgets/base",
            "_model_module_version": "1.2.0",
            "_model_name": "LayoutModel",
            "_view_count": null,
            "_view_module": "@jupyter-widgets/base",
            "_view_module_version": "1.2.0",
            "_view_name": "LayoutView",
            "align_content": null,
            "align_items": null,
            "align_self": null,
            "border": null,
            "bottom": null,
            "display": null,
            "flex": null,
            "flex_flow": null,
            "grid_area": null,
            "grid_auto_columns": null,
            "grid_auto_flow": null,
            "grid_auto_rows": null,
            "grid_column": null,
            "grid_gap": null,
            "grid_row": null,
            "grid_template_areas": null,
            "grid_template_columns": null,
            "grid_template_rows": null,
            "height": null,
            "justify_content": null,
            "justify_items": null,
            "left": null,
            "margin": null,
            "max_height": null,
            "max_width": null,
            "min_height": null,
            "min_width": null,
            "object_fit": null,
            "object_position": null,
            "order": null,
            "overflow": null,
            "overflow_x": null,
            "overflow_y": null,
            "padding": null,
            "right": null,
            "top": null,
            "visibility": null,
            "width": null
          }
        },
        "1a54ce304f0248b1841d1ae8d850d170": {
          "model_module": "@jupyter-widgets/controls",
          "model_name": "DescriptionStyleModel",
          "model_module_version": "1.5.0",
          "state": {
            "_model_module": "@jupyter-widgets/controls",
            "_model_module_version": "1.5.0",
            "_model_name": "DescriptionStyleModel",
            "_view_count": null,
            "_view_module": "@jupyter-widgets/base",
            "_view_module_version": "1.2.0",
            "_view_name": "StyleView",
            "description_width": ""
          }
        },
        "bdcbec7741a8461387f963ac4a843b34": {
          "model_module": "@jupyter-widgets/controls",
          "model_name": "HBoxModel",
          "model_module_version": "1.5.0",
          "state": {
            "_dom_classes": [],
            "_model_module": "@jupyter-widgets/controls",
            "_model_module_version": "1.5.0",
            "_model_name": "HBoxModel",
            "_view_count": null,
            "_view_module": "@jupyter-widgets/controls",
            "_view_module_version": "1.5.0",
            "_view_name": "HBoxView",
            "box_style": "",
            "children": [
              "IPY_MODEL_cef591da907f40f4ac636475a6a486b2",
              "IPY_MODEL_67b48e8d4b7942abac6ae89f448d98ef",
              "IPY_MODEL_c51050a321204d7ba143a81cddcda1a3"
            ],
            "layout": "IPY_MODEL_ce030d9a37df478993dbfba6f0d8e68b"
          }
        },
        "cef591da907f40f4ac636475a6a486b2": {
          "model_module": "@jupyter-widgets/controls",
          "model_name": "HTMLModel",
          "model_module_version": "1.5.0",
          "state": {
            "_dom_classes": [],
            "_model_module": "@jupyter-widgets/controls",
            "_model_module_version": "1.5.0",
            "_model_name": "HTMLModel",
            "_view_count": null,
            "_view_module": "@jupyter-widgets/controls",
            "_view_module_version": "1.5.0",
            "_view_name": "HTMLView",
            "description": "",
            "description_tooltip": null,
            "layout": "IPY_MODEL_fa543c7420294ed98b7b6e93882688f4",
            "placeholder": "​",
            "style": "IPY_MODEL_1af9f65aad9e43a7a4fcde854dbe5736",
            "value": "Downloading: 100%"
          }
        },
        "67b48e8d4b7942abac6ae89f448d98ef": {
          "model_module": "@jupyter-widgets/controls",
          "model_name": "FloatProgressModel",
          "model_module_version": "1.5.0",
          "state": {
            "_dom_classes": [],
            "_model_module": "@jupyter-widgets/controls",
            "_model_module_version": "1.5.0",
            "_model_name": "FloatProgressModel",
            "_view_count": null,
            "_view_module": "@jupyter-widgets/controls",
            "_view_module_version": "1.5.0",
            "_view_name": "ProgressView",
            "bar_style": "success",
            "description": "",
            "description_tooltip": null,
            "layout": "IPY_MODEL_d4d4f3ce6e444a0f96afcd2ff70fc5ba",
            "max": 213450,
            "min": 0,
            "orientation": "horizontal",
            "style": "IPY_MODEL_528a2b2e69ae4f34bfbf8fb9e688dd5f",
            "value": 213450
          }
        },
        "c51050a321204d7ba143a81cddcda1a3": {
          "model_module": "@jupyter-widgets/controls",
          "model_name": "HTMLModel",
          "model_module_version": "1.5.0",
          "state": {
            "_dom_classes": [],
            "_model_module": "@jupyter-widgets/controls",
            "_model_module_version": "1.5.0",
            "_model_name": "HTMLModel",
            "_view_count": null,
            "_view_module": "@jupyter-widgets/controls",
            "_view_module_version": "1.5.0",
            "_view_name": "HTMLView",
            "description": "",
            "description_tooltip": null,
            "layout": "IPY_MODEL_def97fce54a64dd1a167f08d608827b0",
            "placeholder": "​",
            "style": "IPY_MODEL_fbdabe8e5c244eafad790a3dbbbdbf41",
            "value": " 213k/213k [00:00&lt;00:00, 2.72MB/s]"
          }
        },
        "ce030d9a37df478993dbfba6f0d8e68b": {
          "model_module": "@jupyter-widgets/base",
          "model_name": "LayoutModel",
          "model_module_version": "1.2.0",
          "state": {
            "_model_module": "@jupyter-widgets/base",
            "_model_module_version": "1.2.0",
            "_model_name": "LayoutModel",
            "_view_count": null,
            "_view_module": "@jupyter-widgets/base",
            "_view_module_version": "1.2.0",
            "_view_name": "LayoutView",
            "align_content": null,
            "align_items": null,
            "align_self": null,
            "border": null,
            "bottom": null,
            "display": null,
            "flex": null,
            "flex_flow": null,
            "grid_area": null,
            "grid_auto_columns": null,
            "grid_auto_flow": null,
            "grid_auto_rows": null,
            "grid_column": null,
            "grid_gap": null,
            "grid_row": null,
            "grid_template_areas": null,
            "grid_template_columns": null,
            "grid_template_rows": null,
            "height": null,
            "justify_content": null,
            "justify_items": null,
            "left": null,
            "margin": null,
            "max_height": null,
            "max_width": null,
            "min_height": null,
            "min_width": null,
            "object_fit": null,
            "object_position": null,
            "order": null,
            "overflow": null,
            "overflow_x": null,
            "overflow_y": null,
            "padding": null,
            "right": null,
            "top": null,
            "visibility": null,
            "width": null
          }
        },
        "fa543c7420294ed98b7b6e93882688f4": {
          "model_module": "@jupyter-widgets/base",
          "model_name": "LayoutModel",
          "model_module_version": "1.2.0",
          "state": {
            "_model_module": "@jupyter-widgets/base",
            "_model_module_version": "1.2.0",
            "_model_name": "LayoutModel",
            "_view_count": null,
            "_view_module": "@jupyter-widgets/base",
            "_view_module_version": "1.2.0",
            "_view_name": "LayoutView",
            "align_content": null,
            "align_items": null,
            "align_self": null,
            "border": null,
            "bottom": null,
            "display": null,
            "flex": null,
            "flex_flow": null,
            "grid_area": null,
            "grid_auto_columns": null,
            "grid_auto_flow": null,
            "grid_auto_rows": null,
            "grid_column": null,
            "grid_gap": null,
            "grid_row": null,
            "grid_template_areas": null,
            "grid_template_columns": null,
            "grid_template_rows": null,
            "height": null,
            "justify_content": null,
            "justify_items": null,
            "left": null,
            "margin": null,
            "max_height": null,
            "max_width": null,
            "min_height": null,
            "min_width": null,
            "object_fit": null,
            "object_position": null,
            "order": null,
            "overflow": null,
            "overflow_x": null,
            "overflow_y": null,
            "padding": null,
            "right": null,
            "top": null,
            "visibility": null,
            "width": null
          }
        },
        "1af9f65aad9e43a7a4fcde854dbe5736": {
          "model_module": "@jupyter-widgets/controls",
          "model_name": "DescriptionStyleModel",
          "model_module_version": "1.5.0",
          "state": {
            "_model_module": "@jupyter-widgets/controls",
            "_model_module_version": "1.5.0",
            "_model_name": "DescriptionStyleModel",
            "_view_count": null,
            "_view_module": "@jupyter-widgets/base",
            "_view_module_version": "1.2.0",
            "_view_name": "StyleView",
            "description_width": ""
          }
        },
        "d4d4f3ce6e444a0f96afcd2ff70fc5ba": {
          "model_module": "@jupyter-widgets/base",
          "model_name": "LayoutModel",
          "model_module_version": "1.2.0",
          "state": {
            "_model_module": "@jupyter-widgets/base",
            "_model_module_version": "1.2.0",
            "_model_name": "LayoutModel",
            "_view_count": null,
            "_view_module": "@jupyter-widgets/base",
            "_view_module_version": "1.2.0",
            "_view_name": "LayoutView",
            "align_content": null,
            "align_items": null,
            "align_self": null,
            "border": null,
            "bottom": null,
            "display": null,
            "flex": null,
            "flex_flow": null,
            "grid_area": null,
            "grid_auto_columns": null,
            "grid_auto_flow": null,
            "grid_auto_rows": null,
            "grid_column": null,
            "grid_gap": null,
            "grid_row": null,
            "grid_template_areas": null,
            "grid_template_columns": null,
            "grid_template_rows": null,
            "height": null,
            "justify_content": null,
            "justify_items": null,
            "left": null,
            "margin": null,
            "max_height": null,
            "max_width": null,
            "min_height": null,
            "min_width": null,
            "object_fit": null,
            "object_position": null,
            "order": null,
            "overflow": null,
            "overflow_x": null,
            "overflow_y": null,
            "padding": null,
            "right": null,
            "top": null,
            "visibility": null,
            "width": null
          }
        },
        "528a2b2e69ae4f34bfbf8fb9e688dd5f": {
          "model_module": "@jupyter-widgets/controls",
          "model_name": "ProgressStyleModel",
          "model_module_version": "1.5.0",
          "state": {
            "_model_module": "@jupyter-widgets/controls",
            "_model_module_version": "1.5.0",
            "_model_name": "ProgressStyleModel",
            "_view_count": null,
            "_view_module": "@jupyter-widgets/base",
            "_view_module_version": "1.2.0",
            "_view_name": "StyleView",
            "bar_color": null,
            "description_width": ""
          }
        },
        "def97fce54a64dd1a167f08d608827b0": {
          "model_module": "@jupyter-widgets/base",
          "model_name": "LayoutModel",
          "model_module_version": "1.2.0",
          "state": {
            "_model_module": "@jupyter-widgets/base",
            "_model_module_version": "1.2.0",
            "_model_name": "LayoutModel",
            "_view_count": null,
            "_view_module": "@jupyter-widgets/base",
            "_view_module_version": "1.2.0",
            "_view_name": "LayoutView",
            "align_content": null,
            "align_items": null,
            "align_self": null,
            "border": null,
            "bottom": null,
            "display": null,
            "flex": null,
            "flex_flow": null,
            "grid_area": null,
            "grid_auto_columns": null,
            "grid_auto_flow": null,
            "grid_auto_rows": null,
            "grid_column": null,
            "grid_gap": null,
            "grid_row": null,
            "grid_template_areas": null,
            "grid_template_columns": null,
            "grid_template_rows": null,
            "height": null,
            "justify_content": null,
            "justify_items": null,
            "left": null,
            "margin": null,
            "max_height": null,
            "max_width": null,
            "min_height": null,
            "min_width": null,
            "object_fit": null,
            "object_position": null,
            "order": null,
            "overflow": null,
            "overflow_x": null,
            "overflow_y": null,
            "padding": null,
            "right": null,
            "top": null,
            "visibility": null,
            "width": null
          }
        },
        "fbdabe8e5c244eafad790a3dbbbdbf41": {
          "model_module": "@jupyter-widgets/controls",
          "model_name": "DescriptionStyleModel",
          "model_module_version": "1.5.0",
          "state": {
            "_model_module": "@jupyter-widgets/controls",
            "_model_module_version": "1.5.0",
            "_model_name": "DescriptionStyleModel",
            "_view_count": null,
            "_view_module": "@jupyter-widgets/base",
            "_view_module_version": "1.2.0",
            "_view_name": "StyleView",
            "description_width": ""
          }
        },
        "79d47be757f44e49951adb3f59b92701": {
          "model_module": "@jupyter-widgets/controls",
          "model_name": "HBoxModel",
          "model_module_version": "1.5.0",
          "state": {
            "_dom_classes": [],
            "_model_module": "@jupyter-widgets/controls",
            "_model_module_version": "1.5.0",
            "_model_name": "HBoxModel",
            "_view_count": null,
            "_view_module": "@jupyter-widgets/controls",
            "_view_module_version": "1.5.0",
            "_view_name": "HBoxView",
            "box_style": "",
            "children": [
              "IPY_MODEL_fdba7ee020534b319255e236080f2686",
              "IPY_MODEL_aaf63d61747c4b949c282cc1b274688f",
              "IPY_MODEL_fa47d8816da6406ba2892df29c7f874d"
            ],
            "layout": "IPY_MODEL_2d3ea54fe8234cf2a65c9105056048d2"
          }
        },
        "fdba7ee020534b319255e236080f2686": {
          "model_module": "@jupyter-widgets/controls",
          "model_name": "HTMLModel",
          "model_module_version": "1.5.0",
          "state": {
            "_dom_classes": [],
            "_model_module": "@jupyter-widgets/controls",
            "_model_module_version": "1.5.0",
            "_model_name": "HTMLModel",
            "_view_count": null,
            "_view_module": "@jupyter-widgets/controls",
            "_view_module_version": "1.5.0",
            "_view_name": "HTMLView",
            "description": "",
            "description_tooltip": null,
            "layout": "IPY_MODEL_6f6c0be3e0114757ba275ebe0b1d5eda",
            "placeholder": "​",
            "style": "IPY_MODEL_90a39e9fb57b48d8ba7c126bcfdb486a",
            "value": "Downloading: 100%"
          }
        },
        "aaf63d61747c4b949c282cc1b274688f": {
          "model_module": "@jupyter-widgets/controls",
          "model_name": "FloatProgressModel",
          "model_module_version": "1.5.0",
          "state": {
            "_dom_classes": [],
            "_model_module": "@jupyter-widgets/controls",
            "_model_module_version": "1.5.0",
            "_model_name": "FloatProgressModel",
            "_view_count": null,
            "_view_module": "@jupyter-widgets/controls",
            "_view_module_version": "1.5.0",
            "_view_name": "ProgressView",
            "bar_style": "success",
            "description": "",
            "description_tooltip": null,
            "layout": "IPY_MODEL_a7703cfbe68643b6a61e10711ceaa9a4",
            "max": 2,
            "min": 0,
            "orientation": "horizontal",
            "style": "IPY_MODEL_94ae37a11c224d24a0ebce43276ed642",
            "value": 2
          }
        },
        "fa47d8816da6406ba2892df29c7f874d": {
          "model_module": "@jupyter-widgets/controls",
          "model_name": "HTMLModel",
          "model_module_version": "1.5.0",
          "state": {
            "_dom_classes": [],
            "_model_module": "@jupyter-widgets/controls",
            "_model_module_version": "1.5.0",
            "_model_name": "HTMLModel",
            "_view_count": null,
            "_view_module": "@jupyter-widgets/controls",
            "_view_module_version": "1.5.0",
            "_view_name": "HTMLView",
            "description": "",
            "description_tooltip": null,
            "layout": "IPY_MODEL_48003edee71349fe9a82a1730c018500",
            "placeholder": "​",
            "style": "IPY_MODEL_c91ce40afd3846aab12dd0506f8a4d90",
            "value": " 2.00/2.00 [00:00&lt;00:00, 81.9B/s]"
          }
        },
        "2d3ea54fe8234cf2a65c9105056048d2": {
          "model_module": "@jupyter-widgets/base",
          "model_name": "LayoutModel",
          "model_module_version": "1.2.0",
          "state": {
            "_model_module": "@jupyter-widgets/base",
            "_model_module_version": "1.2.0",
            "_model_name": "LayoutModel",
            "_view_count": null,
            "_view_module": "@jupyter-widgets/base",
            "_view_module_version": "1.2.0",
            "_view_name": "LayoutView",
            "align_content": null,
            "align_items": null,
            "align_self": null,
            "border": null,
            "bottom": null,
            "display": null,
            "flex": null,
            "flex_flow": null,
            "grid_area": null,
            "grid_auto_columns": null,
            "grid_auto_flow": null,
            "grid_auto_rows": null,
            "grid_column": null,
            "grid_gap": null,
            "grid_row": null,
            "grid_template_areas": null,
            "grid_template_columns": null,
            "grid_template_rows": null,
            "height": null,
            "justify_content": null,
            "justify_items": null,
            "left": null,
            "margin": null,
            "max_height": null,
            "max_width": null,
            "min_height": null,
            "min_width": null,
            "object_fit": null,
            "object_position": null,
            "order": null,
            "overflow": null,
            "overflow_x": null,
            "overflow_y": null,
            "padding": null,
            "right": null,
            "top": null,
            "visibility": null,
            "width": null
          }
        },
        "6f6c0be3e0114757ba275ebe0b1d5eda": {
          "model_module": "@jupyter-widgets/base",
          "model_name": "LayoutModel",
          "model_module_version": "1.2.0",
          "state": {
            "_model_module": "@jupyter-widgets/base",
            "_model_module_version": "1.2.0",
            "_model_name": "LayoutModel",
            "_view_count": null,
            "_view_module": "@jupyter-widgets/base",
            "_view_module_version": "1.2.0",
            "_view_name": "LayoutView",
            "align_content": null,
            "align_items": null,
            "align_self": null,
            "border": null,
            "bottom": null,
            "display": null,
            "flex": null,
            "flex_flow": null,
            "grid_area": null,
            "grid_auto_columns": null,
            "grid_auto_flow": null,
            "grid_auto_rows": null,
            "grid_column": null,
            "grid_gap": null,
            "grid_row": null,
            "grid_template_areas": null,
            "grid_template_columns": null,
            "grid_template_rows": null,
            "height": null,
            "justify_content": null,
            "justify_items": null,
            "left": null,
            "margin": null,
            "max_height": null,
            "max_width": null,
            "min_height": null,
            "min_width": null,
            "object_fit": null,
            "object_position": null,
            "order": null,
            "overflow": null,
            "overflow_x": null,
            "overflow_y": null,
            "padding": null,
            "right": null,
            "top": null,
            "visibility": null,
            "width": null
          }
        },
        "90a39e9fb57b48d8ba7c126bcfdb486a": {
          "model_module": "@jupyter-widgets/controls",
          "model_name": "DescriptionStyleModel",
          "model_module_version": "1.5.0",
          "state": {
            "_model_module": "@jupyter-widgets/controls",
            "_model_module_version": "1.5.0",
            "_model_name": "DescriptionStyleModel",
            "_view_count": null,
            "_view_module": "@jupyter-widgets/base",
            "_view_module_version": "1.2.0",
            "_view_name": "StyleView",
            "description_width": ""
          }
        },
        "a7703cfbe68643b6a61e10711ceaa9a4": {
          "model_module": "@jupyter-widgets/base",
          "model_name": "LayoutModel",
          "model_module_version": "1.2.0",
          "state": {
            "_model_module": "@jupyter-widgets/base",
            "_model_module_version": "1.2.0",
            "_model_name": "LayoutModel",
            "_view_count": null,
            "_view_module": "@jupyter-widgets/base",
            "_view_module_version": "1.2.0",
            "_view_name": "LayoutView",
            "align_content": null,
            "align_items": null,
            "align_self": null,
            "border": null,
            "bottom": null,
            "display": null,
            "flex": null,
            "flex_flow": null,
            "grid_area": null,
            "grid_auto_columns": null,
            "grid_auto_flow": null,
            "grid_auto_rows": null,
            "grid_column": null,
            "grid_gap": null,
            "grid_row": null,
            "grid_template_areas": null,
            "grid_template_columns": null,
            "grid_template_rows": null,
            "height": null,
            "justify_content": null,
            "justify_items": null,
            "left": null,
            "margin": null,
            "max_height": null,
            "max_width": null,
            "min_height": null,
            "min_width": null,
            "object_fit": null,
            "object_position": null,
            "order": null,
            "overflow": null,
            "overflow_x": null,
            "overflow_y": null,
            "padding": null,
            "right": null,
            "top": null,
            "visibility": null,
            "width": null
          }
        },
        "94ae37a11c224d24a0ebce43276ed642": {
          "model_module": "@jupyter-widgets/controls",
          "model_name": "ProgressStyleModel",
          "model_module_version": "1.5.0",
          "state": {
            "_model_module": "@jupyter-widgets/controls",
            "_model_module_version": "1.5.0",
            "_model_name": "ProgressStyleModel",
            "_view_count": null,
            "_view_module": "@jupyter-widgets/base",
            "_view_module_version": "1.2.0",
            "_view_name": "StyleView",
            "bar_color": null,
            "description_width": ""
          }
        },
        "48003edee71349fe9a82a1730c018500": {
          "model_module": "@jupyter-widgets/base",
          "model_name": "LayoutModel",
          "model_module_version": "1.2.0",
          "state": {
            "_model_module": "@jupyter-widgets/base",
            "_model_module_version": "1.2.0",
            "_model_name": "LayoutModel",
            "_view_count": null,
            "_view_module": "@jupyter-widgets/base",
            "_view_module_version": "1.2.0",
            "_view_name": "LayoutView",
            "align_content": null,
            "align_items": null,
            "align_self": null,
            "border": null,
            "bottom": null,
            "display": null,
            "flex": null,
            "flex_flow": null,
            "grid_area": null,
            "grid_auto_columns": null,
            "grid_auto_flow": null,
            "grid_auto_rows": null,
            "grid_column": null,
            "grid_gap": null,
            "grid_row": null,
            "grid_template_areas": null,
            "grid_template_columns": null,
            "grid_template_rows": null,
            "height": null,
            "justify_content": null,
            "justify_items": null,
            "left": null,
            "margin": null,
            "max_height": null,
            "max_width": null,
            "min_height": null,
            "min_width": null,
            "object_fit": null,
            "object_position": null,
            "order": null,
            "overflow": null,
            "overflow_x": null,
            "overflow_y": null,
            "padding": null,
            "right": null,
            "top": null,
            "visibility": null,
            "width": null
          }
        },
        "c91ce40afd3846aab12dd0506f8a4d90": {
          "model_module": "@jupyter-widgets/controls",
          "model_name": "DescriptionStyleModel",
          "model_module_version": "1.5.0",
          "state": {
            "_model_module": "@jupyter-widgets/controls",
            "_model_module_version": "1.5.0",
            "_model_name": "DescriptionStyleModel",
            "_view_count": null,
            "_view_module": "@jupyter-widgets/base",
            "_view_module_version": "1.2.0",
            "_view_name": "StyleView",
            "description_width": ""
          }
        },
        "b9c1bdc2261c49febce736ae788317a5": {
          "model_module": "@jupyter-widgets/controls",
          "model_name": "HBoxModel",
          "model_module_version": "1.5.0",
          "state": {
            "_dom_classes": [],
            "_model_module": "@jupyter-widgets/controls",
            "_model_module_version": "1.5.0",
            "_model_name": "HBoxModel",
            "_view_count": null,
            "_view_module": "@jupyter-widgets/controls",
            "_view_module_version": "1.5.0",
            "_view_name": "HBoxView",
            "box_style": "",
            "children": [
              "IPY_MODEL_be273f1adf654653b04c7b4e09056634",
              "IPY_MODEL_271960480152492e826df350588a2cad",
              "IPY_MODEL_df3655becc6c4f43939d41d9edfccb21"
            ],
            "layout": "IPY_MODEL_6f5b683fa01948f69472105e549c4584"
          }
        },
        "be273f1adf654653b04c7b4e09056634": {
          "model_module": "@jupyter-widgets/controls",
          "model_name": "HTMLModel",
          "model_module_version": "1.5.0",
          "state": {
            "_dom_classes": [],
            "_model_module": "@jupyter-widgets/controls",
            "_model_module_version": "1.5.0",
            "_model_name": "HTMLModel",
            "_view_count": null,
            "_view_module": "@jupyter-widgets/controls",
            "_view_module_version": "1.5.0",
            "_view_name": "HTMLView",
            "description": "",
            "description_tooltip": null,
            "layout": "IPY_MODEL_b283959066b142a9806af3841d10f09e",
            "placeholder": "​",
            "style": "IPY_MODEL_31d3502d7e554d47b113cf7872a180c4",
            "value": "Downloading: 100%"
          }
        },
        "271960480152492e826df350588a2cad": {
          "model_module": "@jupyter-widgets/controls",
          "model_name": "FloatProgressModel",
          "model_module_version": "1.5.0",
          "state": {
            "_dom_classes": [],
            "_model_module": "@jupyter-widgets/controls",
            "_model_module_version": "1.5.0",
            "_model_name": "FloatProgressModel",
            "_view_count": null,
            "_view_module": "@jupyter-widgets/controls",
            "_view_module_version": "1.5.0",
            "_view_name": "ProgressView",
            "bar_style": "success",
            "description": "",
            "description_tooltip": null,
            "layout": "IPY_MODEL_973316ca856f41b088b0d59b9e6d8065",
            "max": 112,
            "min": 0,
            "orientation": "horizontal",
            "style": "IPY_MODEL_add8aa62896f45a69a6d9b68aa095821",
            "value": 112
          }
        },
        "df3655becc6c4f43939d41d9edfccb21": {
          "model_module": "@jupyter-widgets/controls",
          "model_name": "HTMLModel",
          "model_module_version": "1.5.0",
          "state": {
            "_dom_classes": [],
            "_model_module": "@jupyter-widgets/controls",
            "_model_module_version": "1.5.0",
            "_model_name": "HTMLModel",
            "_view_count": null,
            "_view_module": "@jupyter-widgets/controls",
            "_view_module_version": "1.5.0",
            "_view_name": "HTMLView",
            "description": "",
            "description_tooltip": null,
            "layout": "IPY_MODEL_217a37f56d714e11852b856b15ccde8b",
            "placeholder": "​",
            "style": "IPY_MODEL_86d4bb6c0bfa4e96a3c5d709d585d109",
            "value": " 112/112 [00:00&lt;00:00, 5.14kB/s]"
          }
        },
        "6f5b683fa01948f69472105e549c4584": {
          "model_module": "@jupyter-widgets/base",
          "model_name": "LayoutModel",
          "model_module_version": "1.2.0",
          "state": {
            "_model_module": "@jupyter-widgets/base",
            "_model_module_version": "1.2.0",
            "_model_name": "LayoutModel",
            "_view_count": null,
            "_view_module": "@jupyter-widgets/base",
            "_view_module_version": "1.2.0",
            "_view_name": "LayoutView",
            "align_content": null,
            "align_items": null,
            "align_self": null,
            "border": null,
            "bottom": null,
            "display": null,
            "flex": null,
            "flex_flow": null,
            "grid_area": null,
            "grid_auto_columns": null,
            "grid_auto_flow": null,
            "grid_auto_rows": null,
            "grid_column": null,
            "grid_gap": null,
            "grid_row": null,
            "grid_template_areas": null,
            "grid_template_columns": null,
            "grid_template_rows": null,
            "height": null,
            "justify_content": null,
            "justify_items": null,
            "left": null,
            "margin": null,
            "max_height": null,
            "max_width": null,
            "min_height": null,
            "min_width": null,
            "object_fit": null,
            "object_position": null,
            "order": null,
            "overflow": null,
            "overflow_x": null,
            "overflow_y": null,
            "padding": null,
            "right": null,
            "top": null,
            "visibility": null,
            "width": null
          }
        },
        "b283959066b142a9806af3841d10f09e": {
          "model_module": "@jupyter-widgets/base",
          "model_name": "LayoutModel",
          "model_module_version": "1.2.0",
          "state": {
            "_model_module": "@jupyter-widgets/base",
            "_model_module_version": "1.2.0",
            "_model_name": "LayoutModel",
            "_view_count": null,
            "_view_module": "@jupyter-widgets/base",
            "_view_module_version": "1.2.0",
            "_view_name": "LayoutView",
            "align_content": null,
            "align_items": null,
            "align_self": null,
            "border": null,
            "bottom": null,
            "display": null,
            "flex": null,
            "flex_flow": null,
            "grid_area": null,
            "grid_auto_columns": null,
            "grid_auto_flow": null,
            "grid_auto_rows": null,
            "grid_column": null,
            "grid_gap": null,
            "grid_row": null,
            "grid_template_areas": null,
            "grid_template_columns": null,
            "grid_template_rows": null,
            "height": null,
            "justify_content": null,
            "justify_items": null,
            "left": null,
            "margin": null,
            "max_height": null,
            "max_width": null,
            "min_height": null,
            "min_width": null,
            "object_fit": null,
            "object_position": null,
            "order": null,
            "overflow": null,
            "overflow_x": null,
            "overflow_y": null,
            "padding": null,
            "right": null,
            "top": null,
            "visibility": null,
            "width": null
          }
        },
        "31d3502d7e554d47b113cf7872a180c4": {
          "model_module": "@jupyter-widgets/controls",
          "model_name": "DescriptionStyleModel",
          "model_module_version": "1.5.0",
          "state": {
            "_model_module": "@jupyter-widgets/controls",
            "_model_module_version": "1.5.0",
            "_model_name": "DescriptionStyleModel",
            "_view_count": null,
            "_view_module": "@jupyter-widgets/base",
            "_view_module_version": "1.2.0",
            "_view_name": "StyleView",
            "description_width": ""
          }
        },
        "973316ca856f41b088b0d59b9e6d8065": {
          "model_module": "@jupyter-widgets/base",
          "model_name": "LayoutModel",
          "model_module_version": "1.2.0",
          "state": {
            "_model_module": "@jupyter-widgets/base",
            "_model_module_version": "1.2.0",
            "_model_name": "LayoutModel",
            "_view_count": null,
            "_view_module": "@jupyter-widgets/base",
            "_view_module_version": "1.2.0",
            "_view_name": "LayoutView",
            "align_content": null,
            "align_items": null,
            "align_self": null,
            "border": null,
            "bottom": null,
            "display": null,
            "flex": null,
            "flex_flow": null,
            "grid_area": null,
            "grid_auto_columns": null,
            "grid_auto_flow": null,
            "grid_auto_rows": null,
            "grid_column": null,
            "grid_gap": null,
            "grid_row": null,
            "grid_template_areas": null,
            "grid_template_columns": null,
            "grid_template_rows": null,
            "height": null,
            "justify_content": null,
            "justify_items": null,
            "left": null,
            "margin": null,
            "max_height": null,
            "max_width": null,
            "min_height": null,
            "min_width": null,
            "object_fit": null,
            "object_position": null,
            "order": null,
            "overflow": null,
            "overflow_x": null,
            "overflow_y": null,
            "padding": null,
            "right": null,
            "top": null,
            "visibility": null,
            "width": null
          }
        },
        "add8aa62896f45a69a6d9b68aa095821": {
          "model_module": "@jupyter-widgets/controls",
          "model_name": "ProgressStyleModel",
          "model_module_version": "1.5.0",
          "state": {
            "_model_module": "@jupyter-widgets/controls",
            "_model_module_version": "1.5.0",
            "_model_name": "ProgressStyleModel",
            "_view_count": null,
            "_view_module": "@jupyter-widgets/base",
            "_view_module_version": "1.2.0",
            "_view_name": "StyleView",
            "bar_color": null,
            "description_width": ""
          }
        },
        "217a37f56d714e11852b856b15ccde8b": {
          "model_module": "@jupyter-widgets/base",
          "model_name": "LayoutModel",
          "model_module_version": "1.2.0",
          "state": {
            "_model_module": "@jupyter-widgets/base",
            "_model_module_version": "1.2.0",
            "_model_name": "LayoutModel",
            "_view_count": null,
            "_view_module": "@jupyter-widgets/base",
            "_view_module_version": "1.2.0",
            "_view_name": "LayoutView",
            "align_content": null,
            "align_items": null,
            "align_self": null,
            "border": null,
            "bottom": null,
            "display": null,
            "flex": null,
            "flex_flow": null,
            "grid_area": null,
            "grid_auto_columns": null,
            "grid_auto_flow": null,
            "grid_auto_rows": null,
            "grid_column": null,
            "grid_gap": null,
            "grid_row": null,
            "grid_template_areas": null,
            "grid_template_columns": null,
            "grid_template_rows": null,
            "height": null,
            "justify_content": null,
            "justify_items": null,
            "left": null,
            "margin": null,
            "max_height": null,
            "max_width": null,
            "min_height": null,
            "min_width": null,
            "object_fit": null,
            "object_position": null,
            "order": null,
            "overflow": null,
            "overflow_x": null,
            "overflow_y": null,
            "padding": null,
            "right": null,
            "top": null,
            "visibility": null,
            "width": null
          }
        },
        "86d4bb6c0bfa4e96a3c5d709d585d109": {
          "model_module": "@jupyter-widgets/controls",
          "model_name": "DescriptionStyleModel",
          "model_module_version": "1.5.0",
          "state": {
            "_model_module": "@jupyter-widgets/controls",
            "_model_module_version": "1.5.0",
            "_model_name": "DescriptionStyleModel",
            "_view_count": null,
            "_view_module": "@jupyter-widgets/base",
            "_view_module_version": "1.2.0",
            "_view_name": "StyleView",
            "description_width": ""
          }
        },
        "ade0e487dc374806b7ade1c36aead17a": {
          "model_module": "@jupyter-widgets/controls",
          "model_name": "HBoxModel",
          "model_module_version": "1.5.0",
          "state": {
            "_dom_classes": [],
            "_model_module": "@jupyter-widgets/controls",
            "_model_module_version": "1.5.0",
            "_model_name": "HBoxModel",
            "_view_count": null,
            "_view_module": "@jupyter-widgets/controls",
            "_view_module_version": "1.5.0",
            "_view_name": "HBoxView",
            "box_style": "",
            "children": [
              "IPY_MODEL_f1fdfce0c29f46a4862090d0cc0ae4e0",
              "IPY_MODEL_8aaff0397e894c7c8e9a64a8c4e87103",
              "IPY_MODEL_70aecf7bb22c4770883cc2f4c5130c7a"
            ],
            "layout": "IPY_MODEL_18f4d196a69046e08c464ef080cfe62b"
          }
        },
        "f1fdfce0c29f46a4862090d0cc0ae4e0": {
          "model_module": "@jupyter-widgets/controls",
          "model_name": "HTMLModel",
          "model_module_version": "1.5.0",
          "state": {
            "_dom_classes": [],
            "_model_module": "@jupyter-widgets/controls",
            "_model_module_version": "1.5.0",
            "_model_name": "HTMLModel",
            "_view_count": null,
            "_view_module": "@jupyter-widgets/controls",
            "_view_module_version": "1.5.0",
            "_view_name": "HTMLView",
            "description": "",
            "description_tooltip": null,
            "layout": "IPY_MODEL_cb20a64b336f479b8891f3247bcf7f20",
            "placeholder": "​",
            "style": "IPY_MODEL_287452b7cd5c418a8f78ee9ff2cc9dc3",
            "value": "Downloading: 100%"
          }
        },
        "8aaff0397e894c7c8e9a64a8c4e87103": {
          "model_module": "@jupyter-widgets/controls",
          "model_name": "FloatProgressModel",
          "model_module_version": "1.5.0",
          "state": {
            "_dom_classes": [],
            "_model_module": "@jupyter-widgets/controls",
            "_model_module_version": "1.5.0",
            "_model_name": "FloatProgressModel",
            "_view_count": null,
            "_view_module": "@jupyter-widgets/controls",
            "_view_module_version": "1.5.0",
            "_view_name": "ProgressView",
            "bar_style": "success",
            "description": "",
            "description_tooltip": null,
            "layout": "IPY_MODEL_869f047231f541628b1c638660396314",
            "max": 433316646,
            "min": 0,
            "orientation": "horizontal",
            "style": "IPY_MODEL_c1d6404cd02e4f97895f732deb5cc3c8",
            "value": 433316646
          }
        },
        "70aecf7bb22c4770883cc2f4c5130c7a": {
          "model_module": "@jupyter-widgets/controls",
          "model_name": "HTMLModel",
          "model_module_version": "1.5.0",
          "state": {
            "_dom_classes": [],
            "_model_module": "@jupyter-widgets/controls",
            "_model_module_version": "1.5.0",
            "_model_name": "HTMLModel",
            "_view_count": null,
            "_view_module": "@jupyter-widgets/controls",
            "_view_module_version": "1.5.0",
            "_view_name": "HTMLView",
            "description": "",
            "description_tooltip": null,
            "layout": "IPY_MODEL_2e77224e31264c97aca066bc554ac6cc",
            "placeholder": "​",
            "style": "IPY_MODEL_5db138a9955943e7a860e27d37db464b",
            "value": " 433M/433M [00:12&lt;00:00, 25.3MB/s]"
          }
        },
        "18f4d196a69046e08c464ef080cfe62b": {
          "model_module": "@jupyter-widgets/base",
          "model_name": "LayoutModel",
          "model_module_version": "1.2.0",
          "state": {
            "_model_module": "@jupyter-widgets/base",
            "_model_module_version": "1.2.0",
            "_model_name": "LayoutModel",
            "_view_count": null,
            "_view_module": "@jupyter-widgets/base",
            "_view_module_version": "1.2.0",
            "_view_name": "LayoutView",
            "align_content": null,
            "align_items": null,
            "align_self": null,
            "border": null,
            "bottom": null,
            "display": null,
            "flex": null,
            "flex_flow": null,
            "grid_area": null,
            "grid_auto_columns": null,
            "grid_auto_flow": null,
            "grid_auto_rows": null,
            "grid_column": null,
            "grid_gap": null,
            "grid_row": null,
            "grid_template_areas": null,
            "grid_template_columns": null,
            "grid_template_rows": null,
            "height": null,
            "justify_content": null,
            "justify_items": null,
            "left": null,
            "margin": null,
            "max_height": null,
            "max_width": null,
            "min_height": null,
            "min_width": null,
            "object_fit": null,
            "object_position": null,
            "order": null,
            "overflow": null,
            "overflow_x": null,
            "overflow_y": null,
            "padding": null,
            "right": null,
            "top": null,
            "visibility": null,
            "width": null
          }
        },
        "cb20a64b336f479b8891f3247bcf7f20": {
          "model_module": "@jupyter-widgets/base",
          "model_name": "LayoutModel",
          "model_module_version": "1.2.0",
          "state": {
            "_model_module": "@jupyter-widgets/base",
            "_model_module_version": "1.2.0",
            "_model_name": "LayoutModel",
            "_view_count": null,
            "_view_module": "@jupyter-widgets/base",
            "_view_module_version": "1.2.0",
            "_view_name": "LayoutView",
            "align_content": null,
            "align_items": null,
            "align_self": null,
            "border": null,
            "bottom": null,
            "display": null,
            "flex": null,
            "flex_flow": null,
            "grid_area": null,
            "grid_auto_columns": null,
            "grid_auto_flow": null,
            "grid_auto_rows": null,
            "grid_column": null,
            "grid_gap": null,
            "grid_row": null,
            "grid_template_areas": null,
            "grid_template_columns": null,
            "grid_template_rows": null,
            "height": null,
            "justify_content": null,
            "justify_items": null,
            "left": null,
            "margin": null,
            "max_height": null,
            "max_width": null,
            "min_height": null,
            "min_width": null,
            "object_fit": null,
            "object_position": null,
            "order": null,
            "overflow": null,
            "overflow_x": null,
            "overflow_y": null,
            "padding": null,
            "right": null,
            "top": null,
            "visibility": null,
            "width": null
          }
        },
        "287452b7cd5c418a8f78ee9ff2cc9dc3": {
          "model_module": "@jupyter-widgets/controls",
          "model_name": "DescriptionStyleModel",
          "model_module_version": "1.5.0",
          "state": {
            "_model_module": "@jupyter-widgets/controls",
            "_model_module_version": "1.5.0",
            "_model_name": "DescriptionStyleModel",
            "_view_count": null,
            "_view_module": "@jupyter-widgets/base",
            "_view_module_version": "1.2.0",
            "_view_name": "StyleView",
            "description_width": ""
          }
        },
        "869f047231f541628b1c638660396314": {
          "model_module": "@jupyter-widgets/base",
          "model_name": "LayoutModel",
          "model_module_version": "1.2.0",
          "state": {
            "_model_module": "@jupyter-widgets/base",
            "_model_module_version": "1.2.0",
            "_model_name": "LayoutModel",
            "_view_count": null,
            "_view_module": "@jupyter-widgets/base",
            "_view_module_version": "1.2.0",
            "_view_name": "LayoutView",
            "align_content": null,
            "align_items": null,
            "align_self": null,
            "border": null,
            "bottom": null,
            "display": null,
            "flex": null,
            "flex_flow": null,
            "grid_area": null,
            "grid_auto_columns": null,
            "grid_auto_flow": null,
            "grid_auto_rows": null,
            "grid_column": null,
            "grid_gap": null,
            "grid_row": null,
            "grid_template_areas": null,
            "grid_template_columns": null,
            "grid_template_rows": null,
            "height": null,
            "justify_content": null,
            "justify_items": null,
            "left": null,
            "margin": null,
            "max_height": null,
            "max_width": null,
            "min_height": null,
            "min_width": null,
            "object_fit": null,
            "object_position": null,
            "order": null,
            "overflow": null,
            "overflow_x": null,
            "overflow_y": null,
            "padding": null,
            "right": null,
            "top": null,
            "visibility": null,
            "width": null
          }
        },
        "c1d6404cd02e4f97895f732deb5cc3c8": {
          "model_module": "@jupyter-widgets/controls",
          "model_name": "ProgressStyleModel",
          "model_module_version": "1.5.0",
          "state": {
            "_model_module": "@jupyter-widgets/controls",
            "_model_module_version": "1.5.0",
            "_model_name": "ProgressStyleModel",
            "_view_count": null,
            "_view_module": "@jupyter-widgets/base",
            "_view_module_version": "1.2.0",
            "_view_name": "StyleView",
            "bar_color": null,
            "description_width": ""
          }
        },
        "2e77224e31264c97aca066bc554ac6cc": {
          "model_module": "@jupyter-widgets/base",
          "model_name": "LayoutModel",
          "model_module_version": "1.2.0",
          "state": {
            "_model_module": "@jupyter-widgets/base",
            "_model_module_version": "1.2.0",
            "_model_name": "LayoutModel",
            "_view_count": null,
            "_view_module": "@jupyter-widgets/base",
            "_view_module_version": "1.2.0",
            "_view_name": "LayoutView",
            "align_content": null,
            "align_items": null,
            "align_self": null,
            "border": null,
            "bottom": null,
            "display": null,
            "flex": null,
            "flex_flow": null,
            "grid_area": null,
            "grid_auto_columns": null,
            "grid_auto_flow": null,
            "grid_auto_rows": null,
            "grid_column": null,
            "grid_gap": null,
            "grid_row": null,
            "grid_template_areas": null,
            "grid_template_columns": null,
            "grid_template_rows": null,
            "height": null,
            "justify_content": null,
            "justify_items": null,
            "left": null,
            "margin": null,
            "max_height": null,
            "max_width": null,
            "min_height": null,
            "min_width": null,
            "object_fit": null,
            "object_position": null,
            "order": null,
            "overflow": null,
            "overflow_x": null,
            "overflow_y": null,
            "padding": null,
            "right": null,
            "top": null,
            "visibility": null,
            "width": null
          }
        },
        "5db138a9955943e7a860e27d37db464b": {
          "model_module": "@jupyter-widgets/controls",
          "model_name": "DescriptionStyleModel",
          "model_module_version": "1.5.0",
          "state": {
            "_model_module": "@jupyter-widgets/controls",
            "_model_module_version": "1.5.0",
            "_model_name": "DescriptionStyleModel",
            "_view_count": null,
            "_view_module": "@jupyter-widgets/base",
            "_view_module_version": "1.2.0",
            "_view_name": "StyleView",
            "description_width": ""
          }
        }
      }
    }
  },
  "cells": [
    {
      "cell_type": "markdown",
      "metadata": {
        "id": "view-in-github",
        "colab_type": "text"
      },
      "source": [
        "<a href=\"https://colab.research.google.com/github/vaish-8468/NLP_learning/blob/main/Stemming%26Lemmatization%26POS%26NER.ipynb\" target=\"_parent\"><img src=\"https://colab.research.google.com/assets/colab-badge.svg\" alt=\"Open In Colab\"/></a>"
      ]
    },
    {
      "cell_type": "code",
      "execution_count": 4,
      "metadata": {
        "id": "TwN3zTY88bJo",
        "colab": {
          "base_uri": "https://localhost:8080/"
        },
        "outputId": "520a4963-dfbf-4d4f-e7ae-672bcebf4448"
      },
      "outputs": [
        {
          "output_type": "stream",
          "name": "stdout",
          "text": [
            "Looking in indexes: https://pypi.org/simple, https://us-python.pkg.dev/colab-wheels/public/simple/\n",
            "Requirement already satisfied: nltk in /usr/local/lib/python3.8/dist-packages (3.7)\n",
            "Requirement already satisfied: joblib in /usr/local/lib/python3.8/dist-packages (from nltk) (1.2.0)\n",
            "Requirement already satisfied: regex>=2021.8.3 in /usr/local/lib/python3.8/dist-packages (from nltk) (2022.6.2)\n",
            "Requirement already satisfied: tqdm in /usr/local/lib/python3.8/dist-packages (from nltk) (4.64.1)\n",
            "Requirement already satisfied: click in /usr/local/lib/python3.8/dist-packages (from nltk) (7.1.2)\n"
          ]
        }
      ],
      "source": [
        "!pip install nltk"
      ]
    },
    {
      "cell_type": "code",
      "source": [
        "!pip install spacy"
      ],
      "metadata": {
        "colab": {
          "base_uri": "https://localhost:8080/"
        },
        "id": "nB-LhnXBYWWt",
        "outputId": "b0b82d6a-74bd-4641-84cc-7ee8b413a107"
      },
      "execution_count": 5,
      "outputs": [
        {
          "output_type": "stream",
          "name": "stdout",
          "text": [
            "Looking in indexes: https://pypi.org/simple, https://us-python.pkg.dev/colab-wheels/public/simple/\n",
            "Requirement already satisfied: spacy in /usr/local/lib/python3.8/dist-packages (3.4.4)\n",
            "Requirement already satisfied: smart-open<7.0.0,>=5.2.1 in /usr/local/lib/python3.8/dist-packages (from spacy) (6.3.0)\n",
            "Requirement already satisfied: requests<3.0.0,>=2.13.0 in /usr/local/lib/python3.8/dist-packages (from spacy) (2.23.0)\n",
            "Requirement already satisfied: cymem<2.1.0,>=2.0.2 in /usr/local/lib/python3.8/dist-packages (from spacy) (2.0.7)\n",
            "Requirement already satisfied: tqdm<5.0.0,>=4.38.0 in /usr/local/lib/python3.8/dist-packages (from spacy) (4.64.1)\n",
            "Requirement already satisfied: preshed<3.1.0,>=3.0.2 in /usr/local/lib/python3.8/dist-packages (from spacy) (3.0.8)\n",
            "Requirement already satisfied: spacy-loggers<2.0.0,>=1.0.0 in /usr/local/lib/python3.8/dist-packages (from spacy) (1.0.4)\n",
            "Requirement already satisfied: jinja2 in /usr/local/lib/python3.8/dist-packages (from spacy) (2.11.3)\n",
            "Requirement already satisfied: pathy>=0.3.5 in /usr/local/lib/python3.8/dist-packages (from spacy) (0.10.1)\n",
            "Requirement already satisfied: srsly<3.0.0,>=2.4.3 in /usr/local/lib/python3.8/dist-packages (from spacy) (2.4.5)\n",
            "Requirement already satisfied: packaging>=20.0 in /usr/local/lib/python3.8/dist-packages (from spacy) (21.3)\n",
            "Requirement already satisfied: spacy-legacy<3.1.0,>=3.0.10 in /usr/local/lib/python3.8/dist-packages (from spacy) (3.0.10)\n",
            "Requirement already satisfied: murmurhash<1.1.0,>=0.28.0 in /usr/local/lib/python3.8/dist-packages (from spacy) (1.0.9)\n",
            "Requirement already satisfied: catalogue<2.1.0,>=2.0.6 in /usr/local/lib/python3.8/dist-packages (from spacy) (2.0.8)\n",
            "Requirement already satisfied: setuptools in /usr/local/lib/python3.8/dist-packages (from spacy) (57.4.0)\n",
            "Requirement already satisfied: thinc<8.2.0,>=8.1.0 in /usr/local/lib/python3.8/dist-packages (from spacy) (8.1.5)\n",
            "Requirement already satisfied: pydantic!=1.8,!=1.8.1,<1.11.0,>=1.7.4 in /usr/local/lib/python3.8/dist-packages (from spacy) (1.10.2)\n",
            "Requirement already satisfied: langcodes<4.0.0,>=3.2.0 in /usr/local/lib/python3.8/dist-packages (from spacy) (3.3.0)\n",
            "Requirement already satisfied: numpy>=1.15.0 in /usr/local/lib/python3.8/dist-packages (from spacy) (1.21.6)\n",
            "Requirement already satisfied: typer<0.8.0,>=0.3.0 in /usr/local/lib/python3.8/dist-packages (from spacy) (0.7.0)\n",
            "Requirement already satisfied: wasabi<1.1.0,>=0.9.1 in /usr/local/lib/python3.8/dist-packages (from spacy) (0.10.1)\n",
            "Requirement already satisfied: pyparsing!=3.0.5,>=2.0.2 in /usr/local/lib/python3.8/dist-packages (from packaging>=20.0->spacy) (3.0.9)\n",
            "Requirement already satisfied: typing-extensions>=4.1.0 in /usr/local/lib/python3.8/dist-packages (from pydantic!=1.8,!=1.8.1,<1.11.0,>=1.7.4->spacy) (4.4.0)\n",
            "Requirement already satisfied: certifi>=2017.4.17 in /usr/local/lib/python3.8/dist-packages (from requests<3.0.0,>=2.13.0->spacy) (2022.12.7)\n",
            "Requirement already satisfied: idna<3,>=2.5 in /usr/local/lib/python3.8/dist-packages (from requests<3.0.0,>=2.13.0->spacy) (2.10)\n",
            "Requirement already satisfied: chardet<4,>=3.0.2 in /usr/local/lib/python3.8/dist-packages (from requests<3.0.0,>=2.13.0->spacy) (3.0.4)\n",
            "Requirement already satisfied: urllib3!=1.25.0,!=1.25.1,<1.26,>=1.21.1 in /usr/local/lib/python3.8/dist-packages (from requests<3.0.0,>=2.13.0->spacy) (1.24.3)\n",
            "Requirement already satisfied: confection<1.0.0,>=0.0.1 in /usr/local/lib/python3.8/dist-packages (from thinc<8.2.0,>=8.1.0->spacy) (0.0.3)\n",
            "Requirement already satisfied: blis<0.8.0,>=0.7.8 in /usr/local/lib/python3.8/dist-packages (from thinc<8.2.0,>=8.1.0->spacy) (0.7.9)\n",
            "Requirement already satisfied: click<9.0.0,>=7.1.1 in /usr/local/lib/python3.8/dist-packages (from typer<0.8.0,>=0.3.0->spacy) (7.1.2)\n",
            "Requirement already satisfied: MarkupSafe>=0.23 in /usr/local/lib/python3.8/dist-packages (from jinja2->spacy) (2.0.1)\n"
          ]
        }
      ]
    },
    {
      "cell_type": "code",
      "source": [
        "import nltk\n",
        "import spacy"
      ],
      "metadata": {
        "id": "z-p_ovNNYaqQ"
      },
      "execution_count": 6,
      "outputs": []
    },
    {
      "cell_type": "code",
      "source": [
        "from nltk.stem import PorterStemmer\n",
        "stemmer= PorterStemmer()"
      ],
      "metadata": {
        "id": "EPU4rvjMY_b6"
      },
      "execution_count": 7,
      "outputs": []
    },
    {
      "cell_type": "code",
      "source": [
        "words=[\"eating\",\"eats\",\"eat\",\"ate\",\"adjustable\",\"rafting\",\"ability\",\"meeting\"]\n",
        "for word in words:\n",
        "  print(word,\"|\",stemmer.stem(word))\n",
        "#stemming  "
      ],
      "metadata": {
        "colab": {
          "base_uri": "https://localhost:8080/"
        },
        "id": "Lq3Lar2OZLfR",
        "outputId": "dfc5daae-6d69-4791-940c-85fcd4015e9d"
      },
      "execution_count": 8,
      "outputs": [
        {
          "output_type": "stream",
          "name": "stdout",
          "text": [
            "eating | eat\n",
            "eats | eat\n",
            "eat | eat\n",
            "ate | ate\n",
            "adjustable | adjust\n",
            "rafting | raft\n",
            "ability | abil\n",
            "meeting | meet\n"
          ]
        }
      ]
    },
    {
      "cell_type": "code",
      "source": [
        "nlp=spacy.load(\"en_core_web_sm\")\n",
        "doc=nlp(\"eating eat ate adjustable rafting ability meeting better\")\n",
        "for token in doc:\n",
        "  print(token,\"|\",token.lemma_,\"|\",token.lemma)\n",
        "#lemmatization  \n",
        "#toke.lemma prints the unique hash"
      ],
      "metadata": {
        "colab": {
          "base_uri": "https://localhost:8080/"
        },
        "id": "DCtQL30eZnZ9",
        "outputId": "26e30491-3983-414e-d9b2-4c354e6671e0"
      },
      "execution_count": 9,
      "outputs": [
        {
          "output_type": "stream",
          "name": "stdout",
          "text": [
            "eating | eat | 9837207709914848172\n",
            "eat | eat | 9837207709914848172\n",
            "ate | eat | 9837207709914848172\n",
            "adjustable | adjustable | 6033511944150694480\n",
            "rafting | raft | 7154368781129989833\n",
            "ability | ability | 11565809527369121409\n",
            "meeting | meeting | 14798207169164081740\n",
            "better | well | 4525988469032889948\n"
          ]
        }
      ]
    },
    {
      "cell_type": "code",
      "source": [
        "doc=nlp(\"talk talking talkative talked\")\n",
        "for token in doc:\n",
        "  print(token,\"|\",token.lemma_,\"|\",token.lemma)"
      ],
      "metadata": {
        "colab": {
          "base_uri": "https://localhost:8080/"
        },
        "id": "b23B1clubiX3",
        "outputId": "e86f1cf7-ec00-4ec3-a72b-8bb79d25ff12"
      },
      "execution_count": 10,
      "outputs": [
        {
          "output_type": "stream",
          "name": "stdout",
          "text": [
            "talk | talk | 13939146775466599234\n",
            "talking | talk | 13939146775466599234\n",
            "talkative | talkative | 13364764166055324990\n",
            "talked | talk | 13939146775466599234\n"
          ]
        }
      ]
    },
    {
      "cell_type": "code",
      "source": [
        "nlp.pipe_names"
      ],
      "metadata": {
        "colab": {
          "base_uri": "https://localhost:8080/"
        },
        "id": "V-M5WRhxbw4P",
        "outputId": "3d05dd78-78b4-4781-9296-ee98b5886f75"
      },
      "execution_count": 11,
      "outputs": [
        {
          "output_type": "execute_result",
          "data": {
            "text/plain": [
              "['tok2vec', 'tagger', 'parser', 'attribute_ruler', 'lemmatizer', 'ner']"
            ]
          },
          "metadata": {},
          "execution_count": 11
        }
      ]
    },
    {
      "cell_type": "code",
      "source": [
        "#adding custom rules for lemmatization\n",
        "ar=nlp.get_pipe(\"attribute_ruler\")\n",
        "ar.add([[{\"TEXT\":\"Bro\"}],[{\"TEXT\":\"Brah\"}]],{\"LEMMA\":\"Brother\"})\n",
        "doc=nlp(\"Bro ,you wanna go out? Brah, don't say that!\")\n",
        "for token in doc:\n",
        "  print(token,\"|\",token.lemma_,\"|\",token.lemma)"
      ],
      "metadata": {
        "colab": {
          "base_uri": "https://localhost:8080/"
        },
        "id": "u4WahXyKbz00",
        "outputId": "ba81ed5e-9645-4db2-a693-2f8d06a3d6b7"
      },
      "execution_count": 12,
      "outputs": [
        {
          "output_type": "stream",
          "name": "stdout",
          "text": [
            "Bro | Brother | 4347558510128575363\n",
            ", | , | 2593208677638477497\n",
            "you | you | 7624161793554793053\n",
            "wanna | wanna | 13000462173222681081\n",
            "go | go | 8004577259940138793\n",
            "out | out | 1696981056005371314\n",
            "? | ? | 8205403955989537350\n",
            "Brah | Brother | 4347558510128575363\n",
            ", | , | 2593208677638477497\n",
            "do | do | 2158845516055552166\n",
            "n't | not | 447765159362469301\n",
            "say | say | 8685289367999165211\n",
            "that | that | 4380130941430378203\n",
            "! | ! | 17494803046312582752\n"
          ]
        }
      ]
    },
    {
      "cell_type": "markdown",
      "source": [
        "#Part of Speech"
      ],
      "metadata": {
        "id": "zcx4ujZkAffU"
      }
    },
    {
      "cell_type": "code",
      "source": [
        "import spacy"
      ],
      "metadata": {
        "id": "RiZ2CYbVAekk"
      },
      "execution_count": 13,
      "outputs": []
    },
    {
      "cell_type": "code",
      "source": [
        "nlp=spacy.load(\"en_core_web_sm\")\n",
        "nlp.pipe_names"
      ],
      "metadata": {
        "colab": {
          "base_uri": "https://localhost:8080/"
        },
        "id": "id-QfKEUBpwx",
        "outputId": "0ab3ed39-8d2f-40ee-90bf-6b4caeb545f9"
      },
      "execution_count": 14,
      "outputs": [
        {
          "output_type": "execute_result",
          "data": {
            "text/plain": [
              "['tok2vec', 'tagger', 'parser', 'attribute_ruler', 'lemmatizer', 'ner']"
            ]
          },
          "metadata": {},
          "execution_count": 14
        }
      ]
    },
    {
      "cell_type": "code",
      "source": [
        "\n",
        "doc=nlp(\"Vasu is a very good boy. He finishes his lunch on time.\")\n",
        "for token  in doc:\n",
        "  print(token,\"|\",token.pos_,\"|\",spacy.explain(token.pos_),\"|\",token.tag_,\"|\",spacy.explain(token.tag_))"
      ],
      "metadata": {
        "colab": {
          "base_uri": "https://localhost:8080/"
        },
        "id": "Jt9jRts4AonD",
        "outputId": "dc6e073c-5923-41ad-eb7b-0635390dfd1e"
      },
      "execution_count": 15,
      "outputs": [
        {
          "output_type": "stream",
          "name": "stdout",
          "text": [
            "Vasu | PROPN | proper noun | NNP | noun, proper singular\n",
            "is | AUX | auxiliary | VBZ | verb, 3rd person singular present\n",
            "a | DET | determiner | DT | determiner\n",
            "very | ADV | adverb | RB | adverb\n",
            "good | ADJ | adjective | JJ | adjective (English), other noun-modifier (Chinese)\n",
            "boy | NOUN | noun | NN | noun, singular or mass\n",
            ". | PUNCT | punctuation | . | punctuation mark, sentence closer\n",
            "He | PRON | pronoun | PRP | pronoun, personal\n",
            "finishes | VERB | verb | VBZ | verb, 3rd person singular present\n",
            "his | PRON | pronoun | PRP$ | pronoun, possessive\n",
            "lunch | NOUN | noun | NN | noun, singular or mass\n",
            "on | ADP | adposition | IN | conjunction, subordinating or preposition\n",
            "time | NOUN | noun | NN | noun, singular or mass\n",
            ". | PUNCT | punctuation | . | punctuation mark, sentence closer\n"
          ]
        }
      ]
    },
    {
      "cell_type": "code",
      "source": [
        "count=doc.count_by(spacy.attrs.POS)\n",
        "count"
      ],
      "metadata": {
        "colab": {
          "base_uri": "https://localhost:8080/"
        },
        "id": "xGDz8nIVBR6l",
        "outputId": "5bf9dc28-80c3-4b34-d230-f1e010ebef1b"
      },
      "execution_count": 16,
      "outputs": [
        {
          "output_type": "execute_result",
          "data": {
            "text/plain": [
              "{96: 1, 87: 1, 90: 1, 86: 1, 84: 1, 92: 3, 97: 2, 95: 2, 100: 1, 85: 1}"
            ]
          },
          "metadata": {},
          "execution_count": 16
        }
      ]
    },
    {
      "cell_type": "code",
      "source": [
        "doc.vocab[96].text"
      ],
      "metadata": {
        "colab": {
          "base_uri": "https://localhost:8080/",
          "height": 36
        },
        "id": "qMGhW1ZeE1EU",
        "outputId": "4776212f-46ba-49b1-f3fd-f182bb692ea4"
      },
      "execution_count": 17,
      "outputs": [
        {
          "output_type": "execute_result",
          "data": {
            "text/plain": [
              "'PROPN'"
            ],
            "application/vnd.google.colaboratory.intrinsic+json": {
              "type": "string"
            }
          },
          "metadata": {},
          "execution_count": 17
        }
      ]
    },
    {
      "cell_type": "code",
      "source": [
        "for k,v in count.items():\n",
        "  print(doc.vocab[k].text,\"|\",v)\n",
        "#gives the count of all kinds of POS  "
      ],
      "metadata": {
        "colab": {
          "base_uri": "https://localhost:8080/"
        },
        "id": "j615H0q_FOCP",
        "outputId": "3ec39e27-6bbc-4a4f-917e-dafaac24190f"
      },
      "execution_count": 18,
      "outputs": [
        {
          "output_type": "stream",
          "name": "stdout",
          "text": [
            "PROPN | 1\n",
            "AUX | 1\n",
            "DET | 1\n",
            "ADV | 1\n",
            "ADJ | 1\n",
            "NOUN | 3\n",
            "PUNCT | 2\n",
            "PRON | 2\n",
            "VERB | 1\n",
            "ADP | 1\n"
          ]
        }
      ]
    },
    {
      "cell_type": "markdown",
      "source": [
        "Q- You are parsing a news story from cnbc.com. News story is stores in news_story.txt which is available in this same folder on github. You need to,\n",
        "Extract all NOUN tokens from this story. You will have to read the file in python first to collect all the text and then extract NOUNs in a python list\n",
        "Extract all numbers (NUM POS type) in a python list\n",
        "Print a count of all POS tags in this story\n",
        "Solution"
      ],
      "metadata": {
        "id": "RQ1iXxIUF5lw"
      }
    },
    {
      "cell_type": "code",
      "source": [
        "with open(\"/content/news_story.txt\",\"r\") as f:\n",
        "  text=f.read()"
      ],
      "metadata": {
        "id": "WV6mZZ3kHXES"
      },
      "execution_count": 20,
      "outputs": []
    },
    {
      "cell_type": "code",
      "source": [
        "\n",
        "doc=nlp(text)\n",
        "for token in doc:\n",
        "  print(token,\"|\",token.pos_ )"
      ],
      "metadata": {
        "colab": {
          "base_uri": "https://localhost:8080/"
        },
        "id": "ZG1g2ouQF9v3",
        "outputId": "b9c6c285-24d0-49b6-adf5-a83684cd6a9f"
      },
      "execution_count": 21,
      "outputs": [
        {
          "output_type": "stream",
          "name": "stdout",
          "text": [
            "Inflation | NOUN\n",
            "rose | VERB\n",
            "again | ADV\n",
            "in | ADP\n",
            "April | PROPN\n",
            ", | PUNCT\n",
            "continuing | VERB\n",
            "a | DET\n",
            "climb | NOUN\n",
            "that | PRON\n",
            "has | AUX\n",
            "pushed | VERB\n",
            "consumers | NOUN\n",
            "to | ADP\n",
            "the | DET\n",
            "brink | NOUN\n",
            "and | CCONJ\n",
            "is | AUX\n",
            "threatening | VERB\n",
            "the | DET\n",
            "economic | ADJ\n",
            "expansion | NOUN\n",
            ", | PUNCT\n",
            "the | DET\n",
            "Bureau | PROPN\n",
            "of | ADP\n",
            "Labor | PROPN\n",
            "Statistics | PROPN\n",
            "reported | VERB\n",
            "Wednesday | PROPN\n",
            ". | PUNCT\n",
            "\n",
            "\n",
            " | SPACE\n",
            "The | DET\n",
            "consumer | NOUN\n",
            "price | NOUN\n",
            "index | NOUN\n",
            ", | PUNCT\n",
            "a | DET\n",
            "broad | ADV\n",
            "- | PUNCT\n",
            "based | VERB\n",
            "measure | NOUN\n",
            "of | ADP\n",
            "prices | NOUN\n",
            "for | ADP\n",
            "goods | NOUN\n",
            "and | CCONJ\n",
            "services | NOUN\n",
            ", | PUNCT\n",
            "increased | VERB\n",
            "8.3 | NUM\n",
            "% | NOUN\n",
            "from | ADP\n",
            "a | DET\n",
            "year | NOUN\n",
            "ago | ADV\n",
            ", | PUNCT\n",
            "higher | ADJ\n",
            "than | ADP\n",
            "the | DET\n",
            "Dow | PROPN\n",
            "Jones | PROPN\n",
            "estimate | NOUN\n",
            "for | ADP\n",
            "an | DET\n",
            "8.1 | NUM\n",
            "% | NOUN\n",
            "gain | NOUN\n",
            ". | PUNCT\n",
            "That | PRON\n",
            "represented | VERB\n",
            "a | DET\n",
            "slight | ADJ\n",
            "ease | NOUN\n",
            "from | ADP\n",
            "March | PROPN\n",
            "’s | PART\n",
            "peak | NOUN\n",
            "but | CCONJ\n",
            "was | AUX\n",
            "still | ADV\n",
            "close | ADJ\n",
            "to | ADP\n",
            "the | DET\n",
            "highest | ADJ\n",
            "level | NOUN\n",
            "since | SCONJ\n",
            "the | DET\n",
            "summer | NOUN\n",
            "of | ADP\n",
            "1982 | NUM\n",
            ". | PUNCT\n",
            "\n",
            "\n",
            " | SPACE\n",
            "Removing | VERB\n",
            "volatile | ADJ\n",
            "food | NOUN\n",
            "and | CCONJ\n",
            "energy | NOUN\n",
            "prices | NOUN\n",
            ", | PUNCT\n",
            "so | ADV\n",
            "- | PUNCT\n",
            "called | VERB\n",
            "core | NOUN\n",
            "CPI | PROPN\n",
            "still | ADV\n",
            "rose | VERB\n",
            "6.2 | NUM\n",
            "% | NOUN\n",
            ", | PUNCT\n",
            "against | ADP\n",
            "expectations | NOUN\n",
            "for | ADP\n",
            "a | DET\n",
            "6 | NUM\n",
            "% | NOUN\n",
            "gain | NOUN\n",
            ", | PUNCT\n",
            "clouding | VERB\n",
            "hopes | NOUN\n",
            "that | SCONJ\n",
            "inflation | NOUN\n",
            "had | AUX\n",
            "peaked | VERB\n",
            "in | ADP\n",
            "March | PROPN\n",
            ". | PUNCT\n",
            "\n",
            "\n",
            " | SPACE\n",
            "The | DET\n",
            "month | NOUN\n",
            "- | PUNCT\n",
            "over | ADP\n",
            "- | PUNCT\n",
            "month | NOUN\n",
            "gains | NOUN\n",
            "also | ADV\n",
            "were | AUX\n",
            "higher | ADJ\n",
            "than | ADP\n",
            "expectations | NOUN\n",
            "— | PUNCT\n",
            "0.3 | NUM\n",
            "% | NOUN\n",
            "on | ADP\n",
            "headline | NOUN\n",
            "CPI | PROPN\n",
            "versus | ADP\n",
            "the | DET\n",
            "0.2 | NUM\n",
            "% | NOUN\n",
            "estimate | NOUN\n",
            "and | CCONJ\n",
            "a | DET\n",
            "0.6 | NUM\n",
            "% | NOUN\n",
            "increase | NOUN\n",
            "for | ADP\n",
            "core | NOUN\n",
            ", | PUNCT\n",
            "against | ADP\n",
            "the | DET\n",
            "outlook | NOUN\n",
            "for | ADP\n",
            "a | DET\n",
            "0.4 | NUM\n",
            "% | NOUN\n",
            "gain | NOUN\n",
            ". | PUNCT\n",
            "\n",
            "\n",
            " | SPACE\n",
            "The | DET\n",
            "price | NOUN\n",
            "gains | NOUN\n",
            "also | ADV\n",
            "meant | VERB\n",
            "that | SCONJ\n",
            "workers | NOUN\n",
            "continued | VERB\n",
            "to | PART\n",
            "lose | VERB\n",
            "ground | NOUN\n",
            ". | PUNCT\n",
            "Real | ADJ\n",
            "wages | NOUN\n",
            "adjusted | VERB\n",
            "for | ADP\n",
            "inflation | NOUN\n",
            "decreased | VERB\n",
            "0.1 | NUM\n",
            "% | NOUN\n",
            "on | ADP\n",
            "the | DET\n",
            "month | NOUN\n",
            "despite | SCONJ\n",
            "a | DET\n",
            "nominal | ADJ\n",
            "increase | NOUN\n",
            "of | ADP\n",
            "0.3 | NUM\n",
            "% | NOUN\n",
            "in | ADP\n",
            "average | ADJ\n",
            "hourly | ADJ\n",
            "earnings | NOUN\n",
            ". | PUNCT\n",
            "Over | ADP\n",
            "the | DET\n",
            "past | ADJ\n",
            "year | NOUN\n",
            ", | PUNCT\n",
            "real | ADJ\n",
            "earnings | NOUN\n",
            "have | AUX\n",
            "dropped | VERB\n",
            "2.6 | NUM\n",
            "% | NOUN\n",
            "even | ADV\n",
            "though | SCONJ\n",
            "average | ADJ\n",
            "hourly | ADJ\n",
            "earnings | NOUN\n",
            "are | AUX\n",
            "up | ADV\n",
            "5.5 | NUM\n",
            "% | NOUN\n",
            ". | PUNCT\n",
            "\n",
            "\n",
            " | SPACE\n",
            "Inflation | NOUN\n",
            "has | AUX\n",
            "been | AUX\n",
            "the | DET\n",
            "single | ADJ\n",
            "biggest | ADJ\n",
            "threat | NOUN\n",
            "to | ADP\n",
            "a | DET\n",
            "recovery | NOUN\n",
            "that | PRON\n",
            "began | VERB\n",
            "early | ADV\n",
            "in | ADP\n",
            "the | DET\n",
            "Covid | PROPN\n",
            "pandemic | NOUN\n",
            "and | CCONJ\n",
            "saw | VERB\n",
            "the | DET\n",
            "economy | NOUN\n",
            "in | ADP\n",
            "2021 | NUM\n",
            "stage | NOUN\n",
            "its | PRON\n",
            "biggest | ADJ\n",
            "single | ADJ\n",
            "- | PUNCT\n",
            "year | NOUN\n",
            "growth | NOUN\n",
            "level | NOUN\n",
            "since | SCONJ\n",
            "1984 | NUM\n",
            ". | PUNCT\n",
            "Rising | VERB\n",
            "prices | NOUN\n",
            "at | ADP\n",
            "the | DET\n",
            "pump | NOUN\n",
            "and | CCONJ\n",
            "in | ADP\n",
            "grocery | NOUN\n",
            "stores | NOUN\n",
            "have | AUX\n",
            "been | AUX\n",
            "one | NUM\n",
            "problem | NOUN\n",
            ", | PUNCT\n",
            "but | CCONJ\n",
            "inflation | NOUN\n",
            "has | AUX\n",
            "spread | VERB\n",
            "beyond | ADP\n",
            "those | DET\n",
            "two | NUM\n",
            "areas | NOUN\n",
            "into | ADP\n",
            "housing | NOUN\n",
            ", | PUNCT\n",
            "auto | NOUN\n",
            "sales | NOUN\n",
            "and | CCONJ\n",
            "a | DET\n",
            "host | NOUN\n",
            "of | ADP\n",
            "other | ADJ\n",
            "areas | NOUN\n",
            ". | PUNCT\n",
            "\n",
            "\n",
            " | SPACE\n",
            "Federal | PROPN\n",
            "Reserve | PROPN\n",
            "officials | NOUN\n",
            "have | AUX\n",
            "responded | VERB\n",
            "to | ADP\n",
            "the | DET\n",
            "problem | NOUN\n",
            "with | ADP\n",
            "two | NUM\n",
            "interest | NOUN\n",
            "rate | NOUN\n",
            "hikes | NOUN\n",
            "so | ADV\n",
            "far | ADV\n",
            "this | DET\n",
            "year | NOUN\n",
            "and | CCONJ\n",
            "pledges | NOUN\n",
            "of | ADP\n",
            "more | ADJ\n",
            "until | SCONJ\n",
            "inflation | NOUN\n",
            "comes | VERB\n",
            "down | ADP\n",
            "to | ADP\n",
            "the | DET\n",
            "central | ADJ\n",
            "bank | NOUN\n",
            "’s | PART\n",
            "2 | NUM\n",
            "% | NOUN\n",
            "goal | NOUN\n",
            ". | PUNCT\n",
            "However | ADV\n",
            ", | PUNCT\n",
            "Wednesday | PROPN\n",
            "’s | PART\n",
            "data | NOUN\n",
            "shows | VERB\n",
            "that | SCONJ\n",
            "the | DET\n",
            "Fed | PROPN\n",
            "has | VERB\n",
            "a | DET\n",
            "big | ADJ\n",
            "job | NOUN\n",
            "ahead | ADV\n",
            ". | PUNCT\n",
            "\n",
            "\n",
            " | SPACE\n",
            "Credits | NOUN\n",
            ": | PUNCT\n",
            "cnbc.com | X\n",
            "\n",
            " | SPACE\n"
          ]
        }
      ]
    },
    {
      "cell_type": "code",
      "source": [
        "noun=[]\n",
        "num=[]\n",
        "for token in doc:\n",
        "  if token.pos_==\"NOUN\":\n",
        "    noun.append(token)\n",
        "  elif token.pos_==\"NUM\":\n",
        "    num.append(token)\n",
        "noun"
      ],
      "metadata": {
        "colab": {
          "base_uri": "https://localhost:8080/"
        },
        "id": "VsF_t-_ZHEn9",
        "outputId": "b56839f9-32e1-40c8-8d0d-2ad49bf6f8b4"
      },
      "execution_count": 22,
      "outputs": [
        {
          "output_type": "execute_result",
          "data": {
            "text/plain": [
              "[Inflation,\n",
              " climb,\n",
              " consumers,\n",
              " brink,\n",
              " expansion,\n",
              " consumer,\n",
              " price,\n",
              " index,\n",
              " measure,\n",
              " prices,\n",
              " goods,\n",
              " services,\n",
              " %,\n",
              " year,\n",
              " estimate,\n",
              " %,\n",
              " gain,\n",
              " ease,\n",
              " peak,\n",
              " level,\n",
              " summer,\n",
              " food,\n",
              " energy,\n",
              " prices,\n",
              " core,\n",
              " %,\n",
              " expectations,\n",
              " %,\n",
              " gain,\n",
              " hopes,\n",
              " inflation,\n",
              " month,\n",
              " month,\n",
              " gains,\n",
              " expectations,\n",
              " %,\n",
              " headline,\n",
              " %,\n",
              " estimate,\n",
              " %,\n",
              " increase,\n",
              " core,\n",
              " outlook,\n",
              " %,\n",
              " gain,\n",
              " price,\n",
              " gains,\n",
              " workers,\n",
              " ground,\n",
              " wages,\n",
              " inflation,\n",
              " %,\n",
              " month,\n",
              " increase,\n",
              " %,\n",
              " earnings,\n",
              " year,\n",
              " earnings,\n",
              " %,\n",
              " earnings,\n",
              " %,\n",
              " Inflation,\n",
              " threat,\n",
              " recovery,\n",
              " pandemic,\n",
              " economy,\n",
              " stage,\n",
              " year,\n",
              " growth,\n",
              " level,\n",
              " prices,\n",
              " pump,\n",
              " grocery,\n",
              " stores,\n",
              " problem,\n",
              " inflation,\n",
              " areas,\n",
              " housing,\n",
              " auto,\n",
              " sales,\n",
              " host,\n",
              " areas,\n",
              " officials,\n",
              " problem,\n",
              " interest,\n",
              " rate,\n",
              " hikes,\n",
              " year,\n",
              " pledges,\n",
              " inflation,\n",
              " bank,\n",
              " %,\n",
              " goal,\n",
              " data,\n",
              " job,\n",
              " Credits]"
            ]
          },
          "metadata": {},
          "execution_count": 22
        }
      ]
    },
    {
      "cell_type": "code",
      "source": [
        "#count of all POS tags\n",
        "count=doc.count_by(spacy.attrs.POS)\n",
        "count\n",
        "#id of POS: no. of occurences"
      ],
      "metadata": {
        "colab": {
          "base_uri": "https://localhost:8080/"
        },
        "id": "Jja1VmkDIZyO",
        "outputId": "e495fcc0-13b4-4f9e-fde8-e9282cbfbd0d"
      },
      "execution_count": 23,
      "outputs": [
        {
          "output_type": "execute_result",
          "data": {
            "text/plain": [
              "{92: 96,\n",
              " 100: 27,\n",
              " 86: 15,\n",
              " 85: 39,\n",
              " 96: 16,\n",
              " 97: 32,\n",
              " 90: 34,\n",
              " 95: 4,\n",
              " 87: 13,\n",
              " 89: 10,\n",
              " 84: 23,\n",
              " 103: 8,\n",
              " 93: 19,\n",
              " 94: 4,\n",
              " 98: 8,\n",
              " 101: 1}"
            ]
          },
          "metadata": {},
          "execution_count": 23
        }
      ]
    },
    {
      "cell_type": "code",
      "source": [
        "for k,v in count.items():\n",
        "  print(doc.vocab[k].text,\"|\",v)"
      ],
      "metadata": {
        "colab": {
          "base_uri": "https://localhost:8080/"
        },
        "id": "STuZ-GQGIn92",
        "outputId": "612ca3d3-7309-4f0b-9930-292f6079807a"
      },
      "execution_count": 24,
      "outputs": [
        {
          "output_type": "stream",
          "name": "stdout",
          "text": [
            "NOUN | 96\n",
            "VERB | 27\n",
            "ADV | 15\n",
            "ADP | 39\n",
            "PROPN | 16\n",
            "PUNCT | 32\n",
            "DET | 34\n",
            "PRON | 4\n",
            "AUX | 13\n",
            "CCONJ | 10\n",
            "ADJ | 23\n",
            "SPACE | 8\n",
            "NUM | 19\n",
            "PART | 4\n",
            "SCONJ | 8\n",
            "X | 1\n"
          ]
        }
      ]
    },
    {
      "cell_type": "markdown",
      "source": [
        "#NER (Names Entity Recognition)"
      ],
      "metadata": {
        "id": "wGALqkdzJJEc"
      }
    },
    {
      "cell_type": "code",
      "source": [
        "nlp.pipe_names"
      ],
      "metadata": {
        "colab": {
          "base_uri": "https://localhost:8080/"
        },
        "id": "Af1rxAv6JLKo",
        "outputId": "26598269-1f53-4065-ea20-8d127ab4aabc"
      },
      "execution_count": 25,
      "outputs": [
        {
          "output_type": "execute_result",
          "data": {
            "text/plain": [
              "['tok2vec', 'tagger', 'parser', 'attribute_ruler', 'lemmatizer', 'ner']"
            ]
          },
          "metadata": {},
          "execution_count": 25
        }
      ]
    },
    {
      "cell_type": "code",
      "source": [
        "doc=nlp(\"Vasu isn't going to Dastarkhwan today.\")\n",
        "for ent in doc.ents:\n",
        "  print(ent.text,\"|\",ent.label_,\"|\",spacy.explain(ent.label_))"
      ],
      "metadata": {
        "colab": {
          "base_uri": "https://localhost:8080/"
        },
        "id": "ZqJIkbhaeo5l",
        "outputId": "58b66f69-972a-4124-dc15-de6b848927e9"
      },
      "execution_count": 26,
      "outputs": [
        {
          "output_type": "stream",
          "name": "stdout",
          "text": [
            "Dastarkhwan | GPE | Countries, cities, states\n",
            "today | DATE | Absolute or relative dates or periods\n"
          ]
        }
      ]
    },
    {
      "cell_type": "code",
      "source": [
        "from spacy import displacy\n",
        "displacy.render(doc,style=\"ent\")"
      ],
      "metadata": {
        "colab": {
          "base_uri": "https://localhost:8080/",
          "height": 181
        },
        "id": "epVdIjtGfOkT",
        "outputId": "e785aad1-b9d7-4e50-ab61-ab6e874964a2"
      },
      "execution_count": 27,
      "outputs": [
        {
          "output_type": "execute_result",
          "data": {
            "text/plain": [
              "'<div class=\"entities\" style=\"line-height: 2.5; direction: ltr\">Vasu isn\\'t going to \\n<mark class=\"entity\" style=\"background: #feca74; padding: 0.45em 0.6em; margin: 0 0.25em; line-height: 1; border-radius: 0.35em;\">\\n    Dastarkhwan\\n    <span style=\"font-size: 0.8em; font-weight: bold; line-height: 1; border-radius: 0.35em; vertical-align: middle; margin-left: 0.5rem\">GPE</span>\\n</mark>\\n \\n<mark class=\"entity\" style=\"background: #bfe1d9; padding: 0.45em 0.6em; margin: 0 0.25em; line-height: 1; border-radius: 0.35em;\">\\n    today\\n    <span style=\"font-size: 0.8em; font-weight: bold; line-height: 1; border-radius: 0.35em; vertical-align: middle; margin-left: 0.5rem\">DATE</span>\\n</mark>\\n.</div>'"
            ],
            "application/vnd.google.colaboratory.intrinsic+json": {
              "type": "string"
            }
          },
          "metadata": {},
          "execution_count": 27
        }
      ]
    },
    {
      "cell_type": "code",
      "source": [
        "nlp.pipe_labels['ner']"
      ],
      "metadata": {
        "colab": {
          "base_uri": "https://localhost:8080/"
        },
        "id": "59CCEAPUfnFA",
        "outputId": "69276342-3382-4f6a-acee-124ee919b922"
      },
      "execution_count": 31,
      "outputs": [
        {
          "output_type": "execute_result",
          "data": {
            "text/plain": [
              "['CARDINAL',\n",
              " 'DATE',\n",
              " 'EVENT',\n",
              " 'FAC',\n",
              " 'GPE',\n",
              " 'LANGUAGE',\n",
              " 'LAW',\n",
              " 'LOC',\n",
              " 'MONEY',\n",
              " 'NORP',\n",
              " 'ORDINAL',\n",
              " 'ORG',\n",
              " 'PERCENT',\n",
              " 'PERSON',\n",
              " 'PRODUCT',\n",
              " 'QUANTITY',\n",
              " 'TIME',\n",
              " 'WORK_OF_ART']"
            ]
          },
          "metadata": {},
          "execution_count": 31
        }
      ]
    },
    {
      "cell_type": "code",
      "source": [
        "doc=nlp(\"Michael Bloomberg founded Bloomberg in 1982.\")\n",
        "for ent in doc.ents:\n",
        "  print(ent.text,\"|\",ent.label_,\"|\",spacy.explain(ent.label_))"
      ],
      "metadata": {
        "colab": {
          "base_uri": "https://localhost:8080/"
        },
        "id": "2Dcq9joUf6p7",
        "outputId": "70aaf638-030a-4c9c-c113-e252270412de"
      },
      "execution_count": 32,
      "outputs": [
        {
          "output_type": "stream",
          "name": "stdout",
          "text": [
            "Michael Bloomberg | PERSON | People, including fictional\n",
            "Bloomberg | GPE | Countries, cities, states\n",
            "1982 | DATE | Absolute or relative dates or periods\n"
          ]
        }
      ]
    },
    {
      "cell_type": "code",
      "source": [
        "!pip install transformers"
      ],
      "metadata": {
        "colab": {
          "base_uri": "https://localhost:8080/"
        },
        "id": "nUk9DhHfguYZ",
        "outputId": "596a9d99-9013-4ab9-c4a3-6adbcac5eae0"
      },
      "execution_count": 34,
      "outputs": [
        {
          "output_type": "stream",
          "name": "stdout",
          "text": [
            "Looking in indexes: https://pypi.org/simple, https://us-python.pkg.dev/colab-wheels/public/simple/\n",
            "Collecting transformers\n",
            "  Downloading transformers-4.25.1-py3-none-any.whl (5.8 MB)\n",
            "\u001b[K     |████████████████████████████████| 5.8 MB 5.2 MB/s \n",
            "\u001b[?25hRequirement already satisfied: filelock in /usr/local/lib/python3.8/dist-packages (from transformers) (3.8.2)\n",
            "Collecting tokenizers!=0.11.3,<0.14,>=0.11.1\n",
            "  Downloading tokenizers-0.13.2-cp38-cp38-manylinux_2_17_x86_64.manylinux2014_x86_64.whl (7.6 MB)\n",
            "\u001b[K     |████████████████████████████████| 7.6 MB 45.6 MB/s \n",
            "\u001b[?25hRequirement already satisfied: pyyaml>=5.1 in /usr/local/lib/python3.8/dist-packages (from transformers) (6.0)\n",
            "Requirement already satisfied: packaging>=20.0 in /usr/local/lib/python3.8/dist-packages (from transformers) (21.3)\n",
            "Requirement already satisfied: tqdm>=4.27 in /usr/local/lib/python3.8/dist-packages (from transformers) (4.64.1)\n",
            "Requirement already satisfied: regex!=2019.12.17 in /usr/local/lib/python3.8/dist-packages (from transformers) (2022.6.2)\n",
            "Requirement already satisfied: requests in /usr/local/lib/python3.8/dist-packages (from transformers) (2.23.0)\n",
            "Requirement already satisfied: numpy>=1.17 in /usr/local/lib/python3.8/dist-packages (from transformers) (1.21.6)\n",
            "Collecting huggingface-hub<1.0,>=0.10.0\n",
            "  Downloading huggingface_hub-0.11.1-py3-none-any.whl (182 kB)\n",
            "\u001b[K     |████████████████████████████████| 182 kB 76.1 MB/s \n",
            "\u001b[?25hRequirement already satisfied: typing-extensions>=3.7.4.3 in /usr/local/lib/python3.8/dist-packages (from huggingface-hub<1.0,>=0.10.0->transformers) (4.4.0)\n",
            "Requirement already satisfied: pyparsing!=3.0.5,>=2.0.2 in /usr/local/lib/python3.8/dist-packages (from packaging>=20.0->transformers) (3.0.9)\n",
            "Requirement already satisfied: urllib3!=1.25.0,!=1.25.1,<1.26,>=1.21.1 in /usr/local/lib/python3.8/dist-packages (from requests->transformers) (1.24.3)\n",
            "Requirement already satisfied: certifi>=2017.4.17 in /usr/local/lib/python3.8/dist-packages (from requests->transformers) (2022.12.7)\n",
            "Requirement already satisfied: idna<3,>=2.5 in /usr/local/lib/python3.8/dist-packages (from requests->transformers) (2.10)\n",
            "Requirement already satisfied: chardet<4,>=3.0.2 in /usr/local/lib/python3.8/dist-packages (from requests->transformers) (3.0.4)\n",
            "Installing collected packages: tokenizers, huggingface-hub, transformers\n",
            "Successfully installed huggingface-hub-0.11.1 tokenizers-0.13.2 transformers-4.25.1\n"
          ]
        }
      ]
    },
    {
      "cell_type": "code",
      "source": [
        "#hugging face ner\n",
        "from transformers import AutoTokenizer, AutoModelForTokenClassification\n",
        "from transformers import pipeline\n",
        "\n",
        "tokenizer = AutoTokenizer.from_pretrained(\"dslim/bert-base-NER\")\n",
        "model = AutoModelForTokenClassification.from_pretrained(\"dslim/bert-base-NER\")\n",
        "\n",
        "nlp = pipeline(\"ner\", model=model, tokenizer=tokenizer)\n",
        "example = \"My name is Wolfgang and I live in Berlin\"\n",
        "\n",
        "ner_results = nlp(example)\n",
        "print(ner_results)"
      ],
      "metadata": {
        "colab": {
          "base_uri": "https://localhost:8080/",
          "height": 247,
          "referenced_widgets": [
            "90588041b2974fd3950544e432188ee9",
            "81ed1cfcbb0240e49ff5cc6502d0b419",
            "59c13058915f452e88f47bb3e5d44811",
            "f25afea3e22a4330a26051fbf5d0c2c3",
            "a71b91cfadd34966a1e12ba9996e31ec",
            "9991a42f53964f818292e9ec13d16bb2",
            "2af6cbe8a77b438a989c2e9a78029056",
            "26f71e1c7f1249bda3387d2e08054723",
            "8596369d6d7b49588e898407a993f42e",
            "a56815d8c8fb45d89ef43921d9821788",
            "68f613a43cd54d918c0169f0351e67c6",
            "b8bb0a99a77f42fc86e523eaf1bff96f",
            "91bc245885cc44d4991345d1642faed7",
            "4da945a351ae430585d69a2b7523fde6",
            "95f80fdbf30a4cd5b9287bf297756536",
            "7835a27d59a44cf98cdf48bffa374098",
            "ac61b0d0b9e9497db5dcb484bd80c19d",
            "330a041ff0984f9f9613a3d26aaf512f",
            "faeb7d63f4284cb6af7bae81471411fc",
            "4829eb167ee144b881ad3b385a93d219",
            "a82743e258464941b808425def332baf",
            "1a54ce304f0248b1841d1ae8d850d170",
            "bdcbec7741a8461387f963ac4a843b34",
            "cef591da907f40f4ac636475a6a486b2",
            "67b48e8d4b7942abac6ae89f448d98ef",
            "c51050a321204d7ba143a81cddcda1a3",
            "ce030d9a37df478993dbfba6f0d8e68b",
            "fa543c7420294ed98b7b6e93882688f4",
            "1af9f65aad9e43a7a4fcde854dbe5736",
            "d4d4f3ce6e444a0f96afcd2ff70fc5ba",
            "528a2b2e69ae4f34bfbf8fb9e688dd5f",
            "def97fce54a64dd1a167f08d608827b0",
            "fbdabe8e5c244eafad790a3dbbbdbf41",
            "79d47be757f44e49951adb3f59b92701",
            "fdba7ee020534b319255e236080f2686",
            "aaf63d61747c4b949c282cc1b274688f",
            "fa47d8816da6406ba2892df29c7f874d",
            "2d3ea54fe8234cf2a65c9105056048d2",
            "6f6c0be3e0114757ba275ebe0b1d5eda",
            "90a39e9fb57b48d8ba7c126bcfdb486a",
            "a7703cfbe68643b6a61e10711ceaa9a4",
            "94ae37a11c224d24a0ebce43276ed642",
            "48003edee71349fe9a82a1730c018500",
            "c91ce40afd3846aab12dd0506f8a4d90",
            "b9c1bdc2261c49febce736ae788317a5",
            "be273f1adf654653b04c7b4e09056634",
            "271960480152492e826df350588a2cad",
            "df3655becc6c4f43939d41d9edfccb21",
            "6f5b683fa01948f69472105e549c4584",
            "b283959066b142a9806af3841d10f09e",
            "31d3502d7e554d47b113cf7872a180c4",
            "973316ca856f41b088b0d59b9e6d8065",
            "add8aa62896f45a69a6d9b68aa095821",
            "217a37f56d714e11852b856b15ccde8b",
            "86d4bb6c0bfa4e96a3c5d709d585d109",
            "ade0e487dc374806b7ade1c36aead17a",
            "f1fdfce0c29f46a4862090d0cc0ae4e0",
            "8aaff0397e894c7c8e9a64a8c4e87103",
            "70aecf7bb22c4770883cc2f4c5130c7a",
            "18f4d196a69046e08c464ef080cfe62b",
            "cb20a64b336f479b8891f3247bcf7f20",
            "287452b7cd5c418a8f78ee9ff2cc9dc3",
            "869f047231f541628b1c638660396314",
            "c1d6404cd02e4f97895f732deb5cc3c8",
            "2e77224e31264c97aca066bc554ac6cc",
            "5db138a9955943e7a860e27d37db464b"
          ]
        },
        "id": "VMzaLoaQgUHy",
        "outputId": "7d53d652-3ec4-468a-bda2-d903349e76e4"
      },
      "execution_count": 35,
      "outputs": [
        {
          "output_type": "display_data",
          "data": {
            "text/plain": [
              "Downloading:   0%|          | 0.00/59.0 [00:00<?, ?B/s]"
            ],
            "application/vnd.jupyter.widget-view+json": {
              "version_major": 2,
              "version_minor": 0,
              "model_id": "90588041b2974fd3950544e432188ee9"
            }
          },
          "metadata": {}
        },
        {
          "output_type": "display_data",
          "data": {
            "text/plain": [
              "Downloading:   0%|          | 0.00/829 [00:00<?, ?B/s]"
            ],
            "application/vnd.jupyter.widget-view+json": {
              "version_major": 2,
              "version_minor": 0,
              "model_id": "b8bb0a99a77f42fc86e523eaf1bff96f"
            }
          },
          "metadata": {}
        },
        {
          "output_type": "display_data",
          "data": {
            "text/plain": [
              "Downloading:   0%|          | 0.00/213k [00:00<?, ?B/s]"
            ],
            "application/vnd.jupyter.widget-view+json": {
              "version_major": 2,
              "version_minor": 0,
              "model_id": "bdcbec7741a8461387f963ac4a843b34"
            }
          },
          "metadata": {}
        },
        {
          "output_type": "display_data",
          "data": {
            "text/plain": [
              "Downloading:   0%|          | 0.00/2.00 [00:00<?, ?B/s]"
            ],
            "application/vnd.jupyter.widget-view+json": {
              "version_major": 2,
              "version_minor": 0,
              "model_id": "79d47be757f44e49951adb3f59b92701"
            }
          },
          "metadata": {}
        },
        {
          "output_type": "display_data",
          "data": {
            "text/plain": [
              "Downloading:   0%|          | 0.00/112 [00:00<?, ?B/s]"
            ],
            "application/vnd.jupyter.widget-view+json": {
              "version_major": 2,
              "version_minor": 0,
              "model_id": "b9c1bdc2261c49febce736ae788317a5"
            }
          },
          "metadata": {}
        },
        {
          "output_type": "display_data",
          "data": {
            "text/plain": [
              "Downloading:   0%|          | 0.00/433M [00:00<?, ?B/s]"
            ],
            "application/vnd.jupyter.widget-view+json": {
              "version_major": 2,
              "version_minor": 0,
              "model_id": "ade0e487dc374806b7ade1c36aead17a"
            }
          },
          "metadata": {}
        },
        {
          "output_type": "stream",
          "name": "stdout",
          "text": [
            "[{'entity': 'B-PER', 'score': 0.9990139, 'index': 4, 'word': 'Wolfgang', 'start': 11, 'end': 19}, {'entity': 'B-LOC', 'score': 0.999645, 'index': 9, 'word': 'Berlin', 'start': 34, 'end': 40}]\n"
          ]
        }
      ]
    },
    {
      "cell_type": "code",
      "source": [
        "#span(class) in spacy\n",
        "doc[2:5]\n",
        "type(doc[2:5])"
      ],
      "metadata": {
        "colab": {
          "base_uri": "https://localhost:8080/"
        },
        "id": "BYgTPbWJhEAX",
        "outputId": "124d7cc5-88d9-492b-a72c-6541da0284dd"
      },
      "execution_count": 39,
      "outputs": [
        {
          "output_type": "execute_result",
          "data": {
            "text/plain": [
              "spacy.tokens.span.Span"
            ]
          },
          "metadata": {},
          "execution_count": 39
        }
      ]
    },
    {
      "cell_type": "code",
      "source": [
        "#setting entities manually\n",
        "from spacy.tokens import Span\n",
        "s1=Span(doc, 0, 1, label=\"PER\")\n",
        "s2=Span(doc,3,4,label=\"ORG\")\n",
        "doc.set_ents([s1,s2],default=\"unmodified\")"
      ],
      "metadata": {
        "id": "8oWRupibht3j"
      },
      "execution_count": 43,
      "outputs": []
    },
    {
      "cell_type": "code",
      "source": [
        "for ent in doc.ents:\n",
        "  print(ent.text,\"|\",ent.label_)"
      ],
      "metadata": {
        "colab": {
          "base_uri": "https://localhost:8080/"
        },
        "id": "LnoEA63zixGa",
        "outputId": "d33dcead-97d3-40bb-b576-4c2be800d030"
      },
      "execution_count": 44,
      "outputs": [
        {
          "output_type": "stream",
          "name": "stdout",
          "text": [
            "Michael | PER\n",
            "Bloomberg | PERSON\n",
            "Bloomberg | ORG\n",
            "1982 | DATE\n"
          ]
        }
      ]
    },
    {
      "cell_type": "code",
      "source": [
        "#building our own ner system\n",
        "#manually defines ner and add to the system \n",
        "\n",
        "\n",
        "#CRF(Conditional RAndom Fiels) can be used for NER Machine Learning model"
      ],
      "metadata": {
        "id": "XF2BNiaUi_HJ"
      },
      "execution_count": 45,
      "outputs": []
    }
  ]
}